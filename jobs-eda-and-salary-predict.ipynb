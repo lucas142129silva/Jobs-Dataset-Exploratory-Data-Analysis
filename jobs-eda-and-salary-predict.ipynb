{
 "cells": [
  {
   "cell_type": "markdown",
   "id": "24d1709e",
   "metadata": {
    "papermill": {
     "duration": 0.019088,
     "end_time": "2022-12-27T02:28:55.749773",
     "exception": false,
     "start_time": "2022-12-27T02:28:55.730685",
     "status": "completed"
    },
    "tags": []
   },
   "source": [
    "<h1 id=\"0\" style='font-size:42px; text-align:center; font-family: Eras Demi ITC;\n",
    "                background-color:#b4e1eb; border: 8px solid #6c9596; padding:10px; \n",
    "                border-radius:25px'> Introduction</h1>"
   ]
  },
  {
   "cell_type": "markdown",
   "id": "3d243abb",
   "metadata": {
    "papermill": {
     "duration": 0.017829,
     "end_time": "2022-12-27T02:28:55.786156",
     "exception": false,
     "start_time": "2022-12-27T02:28:55.768327",
     "status": "completed"
    },
    "tags": []
   },
   "source": [
    "<h2 style=\"font-family: Eras Demi ITC\"> Objectives</h2>\n",
    "<hr style=\"height:6px;background-color:#6c9596\">\n",
    "<div style='font-family: Eras ITC;font-size:16px'> In this notebook I did a Exploratory Data Analysis on a job titles dataset to end up with insights. Also, I used Machine Learning to predict a wage for a job using key skills, experience required and the industry field. I hope you like!</div>"
   ]
  },
  {
   "cell_type": "markdown",
   "id": "466380b4",
   "metadata": {
    "papermill": {
     "duration": 0.017681,
     "end_time": "2022-12-27T02:28:55.821205",
     "exception": false,
     "start_time": "2022-12-27T02:28:55.803524",
     "status": "completed"
    },
    "tags": []
   },
   "source": [
    "<h2 style=\"font-family: Eras Demi ITC\"> Technologies and Techniques used</h2>\n",
    "<hr style=\"height:6px;background-color:#6c9596\">\n",
    "<div style='font-family: Eras ITC;font-size:16px'> \n",
    "    <li><b>-</b> <b>Pandas</b> and <b>NumPy</b> for data manipulation;</li>\n",
    "    <li><b>-</b> <b>Matplotlib</b> and <b>Seaborn</b> for data visualization;</li>\n",
    "    <li><b>-</b> <b>Scikit-learn</b> for Machine Learning;</li>\n",
    "    <li><b>-</b> Techniques for better data visualization using <b>graphic personalization</b>;</li>\n",
    "    <li><b>-</b> Techniques for <b>handling string data</b> and <b>processing</b> it for Machine Learning;</li>\n",
    "    <li><b>-</b> Techniques for <b>optimization of Machine Learning model</b> with hyperparams and KFold;</li>\n",
    "</div>"
   ]
  },
  {
   "cell_type": "markdown",
   "id": "d199981c",
   "metadata": {
    "papermill": {
     "duration": 0.018433,
     "end_time": "2022-12-27T02:28:55.857204",
     "exception": false,
     "start_time": "2022-12-27T02:28:55.838771",
     "status": "completed"
    },
    "tags": []
   },
   "source": [
    "<h2 style=\"font-family: Eras Demi ITC\"> Summary</h2>\n",
    "<hr style=\"height:6px;background-color:#6c9596\">"
   ]
  },
  {
   "cell_type": "markdown",
   "id": "89d49a4f",
   "metadata": {
    "papermill": {
     "duration": 0.017096,
     "end_time": "2022-12-27T02:28:55.892480",
     "exception": false,
     "start_time": "2022-12-27T02:28:55.875384",
     "status": "completed"
    },
    "tags": []
   },
   "source": [
    "<div id=\"summary\" style=\"font-family:Eras Demi ITC; background-color:#b4e1eb; \n",
    "                        padding: 20px 20px; border-radius: 20px; line-height:1.8;\n",
    "                        border: 8px solid #6c9596\">\n",
    "<p style=\"font-size: 24px\"><a href=\"#1\">● Imports</a></p>\n",
    "<p style=\"font-size: 24px\"><a href=\"#2\">● Understading the Data</a></p>    \n",
    "<p style=\"font-size: 24px\"><a href=\"#3\">● Role and Salary</a></p>\n",
    "<p style=\"font-size: 24px\"><a href=\"#4\">● Key Skills</a></p>\n",
    "<p style=\"font-size: 24px\"><a href=\"#5\">● Years of Experience </a></p>\n",
    "<p style=\"font-size: 24px\"><a href=\"#6\">● The Job Industry </a></p>\n",
    "<p style=\"font-size: 24px\"><a href=\"#7\">● Regression Model</a></p>\n",
    "<p style=\"font-size: 24px\"><a href=\"#8\">● Conclusion</a></p></div>"
   ]
  },
  {
   "cell_type": "markdown",
   "id": "f97b8e2c",
   "metadata": {
    "papermill": {
     "duration": 0.018021,
     "end_time": "2022-12-27T02:28:55.928303",
     "exception": false,
     "start_time": "2022-12-27T02:28:55.910282",
     "status": "completed"
    },
    "tags": []
   },
   "source": [
    "<div id=\"1\" style='font-size:48px; text-align:center; font-family: Eras Demi ITC;\n",
    "                background-color:#b4e1eb; border: 8px solid #6c9596; \n",
    "                   border-radius:25px'> Imports </div>"
   ]
  },
  {
   "cell_type": "code",
   "execution_count": 1,
   "id": "86d5cd0c",
   "metadata": {
    "_cell_guid": "b1076dfc-b9ad-4769-8c92-a6c4dae69d19",
    "_kg_hide-input": true,
    "_uuid": "8f2839f25d086af736a60e9eeb907d3b93b6e0e5",
    "execution": {
     "iopub.execute_input": "2022-12-27T02:28:55.966069Z",
     "iopub.status.busy": "2022-12-27T02:28:55.965336Z",
     "iopub.status.idle": "2022-12-27T02:28:57.705964Z",
     "shell.execute_reply": "2022-12-27T02:28:57.704675Z"
    },
    "papermill": {
     "duration": 1.763133,
     "end_time": "2022-12-27T02:28:57.708984",
     "exception": false,
     "start_time": "2022-12-27T02:28:55.945851",
     "status": "completed"
    },
    "tags": []
   },
   "outputs": [
    {
     "name": "stdout",
     "output_type": "stream",
     "text": [
      "/kaggle/input/font-eras-demi/ERASDEMI.TTF\n",
      "/kaggle/input/predicting-job-titles-from-resumes/jobss.csv\n"
     ]
    }
   ],
   "source": [
    "# Data Manipulation\n",
    "import numpy as np \n",
    "import pandas as pd\n",
    "\n",
    "# Data Visualization\n",
    "import matplotlib.pyplot as plt\n",
    "import seaborn as sns\n",
    "from matplotlib.font_manager import FontProperties\n",
    "font = FontProperties(fname='../input/font-eras-demi/ERASDEMI.TTF')\n",
    "\n",
    "# Filter Warnings\n",
    "import warnings\n",
    "warnings.filterwarnings(\"ignore\")\n",
    "\n",
    "# Machine Learning\n",
    "from sklearn.model_selection import train_test_split, RandomizedSearchCV, KFold\n",
    "from sklearn.metrics import mean_squared_error\n",
    "from sklearn.ensemble import RandomForestRegressor\n",
    "\n",
    "import os\n",
    "for dirname, _, filenames in os.walk('/kaggle/input'):\n",
    "    for filename in filenames:\n",
    "        print(os.path.join(dirname, filename))"
   ]
  },
  {
   "cell_type": "markdown",
   "id": "52de645b",
   "metadata": {
    "papermill": {
     "duration": 0.016896,
     "end_time": "2022-12-27T02:28:57.743201",
     "exception": false,
     "start_time": "2022-12-27T02:28:57.726305",
     "status": "completed"
    },
    "tags": []
   },
   "source": [
    "<div id=\"2\" style='font-size:48px; text-align:center; font-family: Eras Demi ITC;\n",
    "                background-color:#b4e1eb; border: 8px solid #6c9596; \n",
    "                border-radius:25px'> Understading the Data</div>"
   ]
  },
  {
   "cell_type": "markdown",
   "id": "5918222f",
   "metadata": {
    "papermill": {
     "duration": 0.017033,
     "end_time": "2022-12-27T02:28:57.777529",
     "exception": false,
     "start_time": "2022-12-27T02:28:57.760496",
     "status": "completed"
    },
    "tags": []
   },
   "source": [
    "<h2 style=\"font-family: Eras Demi ITC\"> Reading the Data</h2>\n",
    "<hr style=\"height:6px;background-color:#6c9596\">\n",
    "<div style='font-family: Eras ITC;font-size:16px'> Reading the data and analyzing the columns values, changing if necessary.</div>"
   ]
  },
  {
   "cell_type": "code",
   "execution_count": 2,
   "id": "94519aa9",
   "metadata": {
    "execution": {
     "iopub.execute_input": "2022-12-27T02:28:57.815303Z",
     "iopub.status.busy": "2022-12-27T02:28:57.814849Z",
     "iopub.status.idle": "2022-12-27T02:28:57.838395Z",
     "shell.execute_reply": "2022-12-27T02:28:57.837045Z"
    },
    "papermill": {
     "duration": 0.045905,
     "end_time": "2022-12-27T02:28:57.841556",
     "exception": false,
     "start_time": "2022-12-27T02:28:57.795651",
     "status": "completed"
    },
    "tags": []
   },
   "outputs": [],
   "source": [
    "jobs_data = pd.read_csv('../input/predicting-job-titles-from-resumes/jobss.csv')"
   ]
  },
  {
   "cell_type": "code",
   "execution_count": 3,
   "id": "9d1f2409",
   "metadata": {
    "execution": {
     "iopub.execute_input": "2022-12-27T02:28:57.879190Z",
     "iopub.status.busy": "2022-12-27T02:28:57.878407Z",
     "iopub.status.idle": "2022-12-27T02:28:57.927779Z",
     "shell.execute_reply": "2022-12-27T02:28:57.926202Z"
    },
    "papermill": {
     "duration": 0.070939,
     "end_time": "2022-12-27T02:28:57.930481",
     "exception": false,
     "start_time": "2022-12-27T02:28:57.859542",
     "status": "completed"
    },
    "tags": []
   },
   "outputs": [
    {
     "data": {
      "text/html": [
       "<div>\n",
       "<style scoped>\n",
       "    .dataframe tbody tr th:only-of-type {\n",
       "        vertical-align: middle;\n",
       "    }\n",
       "\n",
       "    .dataframe tbody tr th {\n",
       "        vertical-align: top;\n",
       "    }\n",
       "\n",
       "    .dataframe thead th {\n",
       "        text-align: right;\n",
       "    }\n",
       "</style>\n",
       "<table border=\"1\" class=\"dataframe\">\n",
       "  <thead>\n",
       "    <tr style=\"text-align: right;\">\n",
       "      <th></th>\n",
       "      <th>Unnamed: 1</th>\n",
       "      <th>Longitude</th>\n",
       "      <th>Latitude</th>\n",
       "      <th>sal</th>\n",
       "    </tr>\n",
       "  </thead>\n",
       "  <tbody>\n",
       "    <tr>\n",
       "      <th>count</th>\n",
       "      <td>0.0</td>\n",
       "      <td>473.000000</td>\n",
       "      <td>473.000000</td>\n",
       "      <td>500.000000</td>\n",
       "    </tr>\n",
       "    <tr>\n",
       "      <th>mean</th>\n",
       "      <td>NaN</td>\n",
       "      <td>75.988498</td>\n",
       "      <td>21.089736</td>\n",
       "      <td>4224.594000</td>\n",
       "    </tr>\n",
       "    <tr>\n",
       "      <th>std</th>\n",
       "      <td>NaN</td>\n",
       "      <td>14.397788</td>\n",
       "      <td>7.080071</td>\n",
       "      <td>1598.716696</td>\n",
       "    </tr>\n",
       "    <tr>\n",
       "      <th>min</th>\n",
       "      <td>NaN</td>\n",
       "      <td>-79.030572</td>\n",
       "      <td>-8.123729</td>\n",
       "      <td>1510.000000</td>\n",
       "    </tr>\n",
       "    <tr>\n",
       "      <th>25%</th>\n",
       "      <td>NaN</td>\n",
       "      <td>73.854454</td>\n",
       "      <td>17.360589</td>\n",
       "      <td>2864.250000</td>\n",
       "    </tr>\n",
       "    <tr>\n",
       "      <th>50%</th>\n",
       "      <td>NaN</td>\n",
       "      <td>77.121215</td>\n",
       "      <td>19.075990</td>\n",
       "      <td>4213.000000</td>\n",
       "    </tr>\n",
       "    <tr>\n",
       "      <th>75%</th>\n",
       "      <td>NaN</td>\n",
       "      <td>77.590082</td>\n",
       "      <td>28.428262</td>\n",
       "      <td>5623.000000</td>\n",
       "    </tr>\n",
       "    <tr>\n",
       "      <th>max</th>\n",
       "      <td>NaN</td>\n",
       "      <td>121.097753</td>\n",
       "      <td>46.314475</td>\n",
       "      <td>6991.000000</td>\n",
       "    </tr>\n",
       "  </tbody>\n",
       "</table>\n",
       "</div>"
      ],
      "text/plain": [
       "       Unnamed: 1   Longitude    Latitude          sal\n",
       "count         0.0  473.000000  473.000000   500.000000\n",
       "mean          NaN   75.988498   21.089736  4224.594000\n",
       "std           NaN   14.397788    7.080071  1598.716696\n",
       "min           NaN  -79.030572   -8.123729  1510.000000\n",
       "25%           NaN   73.854454   17.360589  2864.250000\n",
       "50%           NaN   77.121215   19.075990  4213.000000\n",
       "75%           NaN   77.590082   28.428262  5623.000000\n",
       "max           NaN  121.097753   46.314475  6991.000000"
      ]
     },
     "execution_count": 3,
     "metadata": {},
     "output_type": "execute_result"
    }
   ],
   "source": [
    "jobs_data.describe()"
   ]
  },
  {
   "cell_type": "code",
   "execution_count": 4,
   "id": "008635c5",
   "metadata": {
    "execution": {
     "iopub.execute_input": "2022-12-27T02:28:57.970025Z",
     "iopub.status.busy": "2022-12-27T02:28:57.969546Z",
     "iopub.status.idle": "2022-12-27T02:28:57.976822Z",
     "shell.execute_reply": "2022-12-27T02:28:57.975225Z"
    },
    "papermill": {
     "duration": 0.029766,
     "end_time": "2022-12-27T02:28:57.979778",
     "exception": false,
     "start_time": "2022-12-27T02:28:57.950012",
     "status": "completed"
    },
    "tags": []
   },
   "outputs": [],
   "source": [
    "jobs_data.drop('Unnamed: 1', axis=1, inplace=True)"
   ]
  },
  {
   "cell_type": "code",
   "execution_count": 5,
   "id": "3d4e0156",
   "metadata": {
    "execution": {
     "iopub.execute_input": "2022-12-27T02:28:58.019043Z",
     "iopub.status.busy": "2022-12-27T02:28:58.018528Z",
     "iopub.status.idle": "2022-12-27T02:28:58.036319Z",
     "shell.execute_reply": "2022-12-27T02:28:58.035196Z"
    },
    "papermill": {
     "duration": 0.040703,
     "end_time": "2022-12-27T02:28:58.038539",
     "exception": false,
     "start_time": "2022-12-27T02:28:57.997836",
     "status": "completed"
    },
    "tags": []
   },
   "outputs": [
    {
     "data": {
      "text/html": [
       "<div>\n",
       "<style scoped>\n",
       "    .dataframe tbody tr th:only-of-type {\n",
       "        vertical-align: middle;\n",
       "    }\n",
       "\n",
       "    .dataframe tbody tr th {\n",
       "        vertical-align: top;\n",
       "    }\n",
       "\n",
       "    .dataframe thead th {\n",
       "        text-align: right;\n",
       "    }\n",
       "</style>\n",
       "<table border=\"1\" class=\"dataframe\">\n",
       "  <thead>\n",
       "    <tr style=\"text-align: right;\">\n",
       "      <th></th>\n",
       "      <th>Job Title</th>\n",
       "      <th>Job Experience Required</th>\n",
       "      <th>Key Skills</th>\n",
       "      <th>Role Category</th>\n",
       "      <th>Location</th>\n",
       "      <th>Functional Area</th>\n",
       "      <th>Industry</th>\n",
       "      <th>Role</th>\n",
       "      <th>Longitude</th>\n",
       "      <th>Latitude</th>\n",
       "      <th>sal</th>\n",
       "    </tr>\n",
       "  </thead>\n",
       "  <tbody>\n",
       "    <tr>\n",
       "      <th>0</th>\n",
       "      <td>Digital Media Planner</td>\n",
       "      <td>5 - 10 yrs</td>\n",
       "      <td>Media Planning| Digital Media</td>\n",
       "      <td>Advertising</td>\n",
       "      <td>Mumbai</td>\n",
       "      <td>Marketing , Advertising , MR , PR , Media Plan...</td>\n",
       "      <td>Advertising, PR, MR, Event Management</td>\n",
       "      <td>Media Planning Executive/Manager</td>\n",
       "      <td>72.877393</td>\n",
       "      <td>19.075990</td>\n",
       "      <td>3855</td>\n",
       "    </tr>\n",
       "    <tr>\n",
       "      <th>1</th>\n",
       "      <td>Online Bidding Executive</td>\n",
       "      <td>2 - 5 yrs</td>\n",
       "      <td>pre sales| closing| software knowledge| clien...</td>\n",
       "      <td>Retail Sales</td>\n",
       "      <td>Pune,Pune</td>\n",
       "      <td>Sales , Retail , Business Development</td>\n",
       "      <td>IT-Software, Software Services</td>\n",
       "      <td>Sales Executive/Officer</td>\n",
       "      <td>73.854454</td>\n",
       "      <td>18.521428</td>\n",
       "      <td>2639</td>\n",
       "    </tr>\n",
       "    <tr>\n",
       "      <th>2</th>\n",
       "      <td>Trainee Research/ Research Executive- Hi- Tec...</td>\n",
       "      <td>0 - 1 yrs</td>\n",
       "      <td>Computer science| Fabrication| Quality check|...</td>\n",
       "      <td>R&amp;D</td>\n",
       "      <td>Gurgaon</td>\n",
       "      <td>Engineering Design , R&amp;D</td>\n",
       "      <td>Recruitment, Staffing</td>\n",
       "      <td>R&amp;D Executive</td>\n",
       "      <td>77.002700</td>\n",
       "      <td>28.428262</td>\n",
       "      <td>2156</td>\n",
       "    </tr>\n",
       "    <tr>\n",
       "      <th>3</th>\n",
       "      <td>Technical Support</td>\n",
       "      <td>0 - 5 yrs</td>\n",
       "      <td>Technical Support</td>\n",
       "      <td>Admin/Maintenance/Security/Datawarehousing</td>\n",
       "      <td>Mumbai</td>\n",
       "      <td>IT Software - Application Programming , Mainte...</td>\n",
       "      <td>IT-Software, Software Services</td>\n",
       "      <td>Technical Support Engineer</td>\n",
       "      <td>72.877393</td>\n",
       "      <td>19.075990</td>\n",
       "      <td>4059</td>\n",
       "    </tr>\n",
       "    <tr>\n",
       "      <th>4</th>\n",
       "      <td>Software Test Engineer -hyderabad</td>\n",
       "      <td>2 - 5 yrs</td>\n",
       "      <td>manual testing| test engineering| test cases|...</td>\n",
       "      <td>Programming &amp; Design</td>\n",
       "      <td>Hyderabad</td>\n",
       "      <td>IT Software - QA &amp; Testing</td>\n",
       "      <td>IT-Software, Software Services</td>\n",
       "      <td>Testing Engineer</td>\n",
       "      <td>78.474061</td>\n",
       "      <td>17.360589</td>\n",
       "      <td>5347</td>\n",
       "    </tr>\n",
       "  </tbody>\n",
       "</table>\n",
       "</div>"
      ],
      "text/plain": [
       "                                           Job Title Job Experience Required  \\\n",
       "0                              Digital Media Planner              5 - 10 yrs   \n",
       "1                           Online Bidding Executive               2 - 5 yrs   \n",
       "2   Trainee Research/ Research Executive- Hi- Tec...               0 - 1 yrs   \n",
       "3                                  Technical Support               0 - 5 yrs   \n",
       "4                  Software Test Engineer -hyderabad               2 - 5 yrs   \n",
       "\n",
       "                                          Key Skills  \\\n",
       "0                      Media Planning| Digital Media   \n",
       "1   pre sales| closing| software knowledge| clien...   \n",
       "2   Computer science| Fabrication| Quality check|...   \n",
       "3                                  Technical Support   \n",
       "4   manual testing| test engineering| test cases|...   \n",
       "\n",
       "                                Role Category   Location  \\\n",
       "0                                 Advertising     Mumbai   \n",
       "1                                Retail Sales  Pune,Pune   \n",
       "2                                         R&D    Gurgaon   \n",
       "3  Admin/Maintenance/Security/Datawarehousing     Mumbai   \n",
       "4                        Programming & Design  Hyderabad   \n",
       "\n",
       "                                     Functional Area  \\\n",
       "0  Marketing , Advertising , MR , PR , Media Plan...   \n",
       "1              Sales , Retail , Business Development   \n",
       "2                           Engineering Design , R&D   \n",
       "3  IT Software - Application Programming , Mainte...   \n",
       "4                         IT Software - QA & Testing   \n",
       "\n",
       "                                Industry                              Role  \\\n",
       "0  Advertising, PR, MR, Event Management  Media Planning Executive/Manager   \n",
       "1         IT-Software, Software Services           Sales Executive/Officer   \n",
       "2                  Recruitment, Staffing                     R&D Executive   \n",
       "3         IT-Software, Software Services        Technical Support Engineer   \n",
       "4         IT-Software, Software Services                  Testing Engineer   \n",
       "\n",
       "   Longitude   Latitude   sal  \n",
       "0  72.877393  19.075990  3855  \n",
       "1  73.854454  18.521428  2639  \n",
       "2  77.002700  28.428262  2156  \n",
       "3  72.877393  19.075990  4059  \n",
       "4  78.474061  17.360589  5347  "
      ]
     },
     "execution_count": 5,
     "metadata": {},
     "output_type": "execute_result"
    }
   ],
   "source": [
    "jobs_data.head()"
   ]
  },
  {
   "cell_type": "code",
   "execution_count": 6,
   "id": "f0597a0c",
   "metadata": {
    "execution": {
     "iopub.execute_input": "2022-12-27T02:28:58.078887Z",
     "iopub.status.busy": "2022-12-27T02:28:58.078119Z",
     "iopub.status.idle": "2022-12-27T02:28:58.087738Z",
     "shell.execute_reply": "2022-12-27T02:28:58.086493Z"
    },
    "papermill": {
     "duration": 0.033302,
     "end_time": "2022-12-27T02:28:58.090310",
     "exception": false,
     "start_time": "2022-12-27T02:28:58.057008",
     "status": "completed"
    },
    "tags": []
   },
   "outputs": [
    {
     "data": {
      "text/plain": [
       "Job Title                  11\n",
       "Job Experience Required     0\n",
       "Key Skills                  0\n",
       "Role Category              37\n",
       "Location                   11\n",
       "Functional Area            11\n",
       "Industry                   11\n",
       "Role                       14\n",
       "Longitude                  27\n",
       "Latitude                   27\n",
       "sal                         0\n",
       "dtype: int64"
      ]
     },
     "execution_count": 6,
     "metadata": {},
     "output_type": "execute_result"
    }
   ],
   "source": [
    "jobs_data.isna().sum()"
   ]
  },
  {
   "cell_type": "markdown",
   "id": "b4215180",
   "metadata": {
    "papermill": {
     "duration": 0.018708,
     "end_time": "2022-12-27T02:28:58.127960",
     "exception": false,
     "start_time": "2022-12-27T02:28:58.109252",
     "status": "completed"
    },
    "tags": []
   },
   "source": [
    "<div style=\"background-color:#b4e1eb; padding:20px; border-radius:35px 10px; line-height: 45px\">\n",
    "    <div style=\"font-family: Eras ITC; font-size:16px\">\n",
    "        <p> - There's a <b>column with just null data</b>, must have it droped </p>\n",
    "        <p> - There are rows that some of their data are null, so it is more efficient to keep it and complete with the most common for the column or with \"Other\" for string type column.</p>\n",
    "    </div>\n",
    "</div>"
   ]
  },
  {
   "cell_type": "markdown",
   "id": "eddee0ac",
   "metadata": {
    "papermill": {
     "duration": 0.01795,
     "end_time": "2022-12-27T02:28:58.165377",
     "exception": false,
     "start_time": "2022-12-27T02:28:58.147427",
     "status": "completed"
    },
    "tags": []
   },
   "source": [
    "<div id=\"3\" style='font-size:48px; text-align:center; font-family: Eras Demi ITC;\n",
    "                background-color:#b4e1eb; border: 8px solid #6c9596; \n",
    "                border-radius:25px'> Role and Salary</div>"
   ]
  },
  {
   "cell_type": "markdown",
   "id": "e7bdeda6",
   "metadata": {
    "papermill": {
     "duration": 0.017901,
     "end_time": "2022-12-27T02:28:58.201629",
     "exception": false,
     "start_time": "2022-12-27T02:28:58.183728",
     "status": "completed"
    },
    "tags": []
   },
   "source": [
    "<h2 style=\"font-family: Eras Demi ITC\"> Grouping the role and showing the average wage</h2>\n",
    "<hr style=\"height:6px;background-color:#6c9596\">\n",
    "<div style='font-family: Eras ITC;font-size:16px'> Grouping the role and showing the average wage</div>"
   ]
  },
  {
   "cell_type": "code",
   "execution_count": 7,
   "id": "a81b7ff4",
   "metadata": {
    "execution": {
     "iopub.execute_input": "2022-12-27T02:28:58.241676Z",
     "iopub.status.busy": "2022-12-27T02:28:58.241214Z",
     "iopub.status.idle": "2022-12-27T02:28:58.254813Z",
     "shell.execute_reply": "2022-12-27T02:28:58.253354Z"
    },
    "papermill": {
     "duration": 0.037284,
     "end_time": "2022-12-27T02:28:58.257898",
     "exception": false,
     "start_time": "2022-12-27T02:28:58.220614",
     "status": "completed"
    },
    "tags": []
   },
   "outputs": [],
   "source": [
    "grouped_role = jobs_data.groupby('Role').mean().reset_index().sort_values('sal', ascending=False)"
   ]
  },
  {
   "cell_type": "code",
   "execution_count": 8,
   "id": "2c50bd25",
   "metadata": {
    "_kg_hide-input": true,
    "execution": {
     "iopub.execute_input": "2022-12-27T02:28:58.297327Z",
     "iopub.status.busy": "2022-12-27T02:28:58.296843Z",
     "iopub.status.idle": "2022-12-27T02:28:58.659931Z",
     "shell.execute_reply": "2022-12-27T02:28:58.658127Z"
    },
    "papermill": {
     "duration": 0.387044,
     "end_time": "2022-12-27T02:28:58.663465",
     "exception": false,
     "start_time": "2022-12-27T02:28:58.276421",
     "status": "completed"
    },
    "tags": []
   },
   "outputs": [
    {
     "data": {
      "image/png": "[encoded data removed]",
      "text/plain": [
       "<Figure size 1296x864 with 1 Axes>"
      ]
     },
     "metadata": {
      "needs_background": "light"
     },
     "output_type": "display_data"
    }
   ],
   "source": [
    "high_low_pay = pd.concat([grouped_role.head(), grouped_role.tail()])\n",
    "palette = sns.color_palette('Blues_r', 5) + sns.color_palette('Oranges', 5)\n",
    "\n",
    "ax = sns.barplot(data = high_low_pay, x = 'sal', y = 'Role', palette=palette) \n",
    "ax.figure.set_size_inches(18, 12)\n",
    "ax.set_title('Roles with the highest Mean Wage', fontsize=26, font=font)\n",
    "ax.set_xlabel('')\n",
    "ax.set_ylabel('')\n",
    "plt.xticks(fontsize=20, font=font)\n",
    "plt.yticks(fontsize=20, font=font)\n",
    "\n",
    "ax.spines['top'].set_visible(False)\n",
    "ax.spines['right'].set_visible(False)\n",
    "ax.spines['left'].set(linewidth = 2)\n",
    "ax.spines['bottom'].set(linewidth = 2)\n",
    "\n",
    "i = 0\n",
    "for index, row in high_low_pay.iterrows():\n",
    "    text = \"$ %.2f\" % row['sal']\n",
    "    color = palette[0] if i < 5 else palette[-1]\n",
    "    x = row['sal'] + 80\n",
    "    plt.text(s=text, y = i + 0.1, x=x, color=color, font=font, fontsize=24)\n",
    "    i+=1\n",
    "\n",
    "\n",
    "plt.show()"
   ]
  },
  {
   "cell_type": "markdown",
   "id": "9fee8911",
   "metadata": {
    "papermill": {
     "duration": 0.019768,
     "end_time": "2022-12-27T02:28:58.703724",
     "exception": false,
     "start_time": "2022-12-27T02:28:58.683956",
     "status": "completed"
    },
    "tags": []
   },
   "source": [
    "<div id=\"4\" style='font-size:48px; text-align:center; font-family: Eras Demi ITC;\n",
    "                background-color:#b4e1eb; border: 8px solid #6c9596;\n",
    "                border-radius:25px'> Key Skills</div>"
   ]
  },
  {
   "cell_type": "markdown",
   "id": "4a877ab9",
   "metadata": {
    "papermill": {
     "duration": 0.020174,
     "end_time": "2022-12-27T02:28:58.743594",
     "exception": false,
     "start_time": "2022-12-27T02:28:58.723420",
     "status": "completed"
    },
    "tags": []
   },
   "source": [
    "<h2 style=\"font-family: Eras Demi ITC\"> Analyzing and Preparing the Key Skills</h2>\n",
    "<hr style=\"height:6px;background-color:#6c9596\">\n",
    "<div style='font-family: Eras ITC;font-size:16px;line-height: 45px'> \n",
    "    <p>Analyzing <b>each skill of the Key Skills list by splitting it by \"|\".</b></p>\n",
    "    <p>Preprocessing the Data, finding <b>null</b> or <b>invalid values.</b></p>\n",
    "</div>"
   ]
  },
  {
   "cell_type": "code",
   "execution_count": 9,
   "id": "016672df",
   "metadata": {
    "execution": {
     "iopub.execute_input": "2022-12-27T02:28:58.785847Z",
     "iopub.status.busy": "2022-12-27T02:28:58.784458Z",
     "iopub.status.idle": "2022-12-27T02:28:58.796347Z",
     "shell.execute_reply": "2022-12-27T02:28:58.795339Z"
    },
    "papermill": {
     "duration": 0.035887,
     "end_time": "2022-12-27T02:28:58.799173",
     "exception": false,
     "start_time": "2022-12-27T02:28:58.763286",
     "status": "completed"
    },
    "tags": []
   },
   "outputs": [],
   "source": [
    "skills_splitted = np.array(jobs_data['Key Skills'].str.lower().str.split('|').values)\n",
    "key_skill_vector = list()\n",
    "\n",
    "for line in skills_splitted:\n",
    "    line_key_skills = [skill.lstrip() for skill in line]    \n",
    "    key_skill_vector += line_key_skills    "
   ]
  },
  {
   "cell_type": "code",
   "execution_count": 10,
   "id": "8f01b3d0",
   "metadata": {
    "_kg_hide-input": true,
    "execution": {
     "iopub.execute_input": "2022-12-27T02:28:58.841918Z",
     "iopub.status.busy": "2022-12-27T02:28:58.841199Z",
     "iopub.status.idle": "2022-12-27T02:28:58.848891Z",
     "shell.execute_reply": "2022-12-27T02:28:58.847468Z"
    },
    "papermill": {
     "duration": 0.03221,
     "end_time": "2022-12-27T02:28:58.851166",
     "exception": false,
     "start_time": "2022-12-27T02:28:58.818956",
     "status": "completed"
    },
    "tags": []
   },
   "outputs": [
    {
     "name": "stdout",
     "output_type": "stream",
     "text": [
      "Before duplicates -> 4036\n",
      "After removing duplicates -> 1790\n"
     ]
    }
   ],
   "source": [
    "print(\"Before duplicates ->\", len(key_skill_vector))\n",
    "\n",
    "key_skill_vector = list(set(key_skill_vector))\n",
    "\n",
    "print(\"After removing duplicates ->\", len(key_skill_vector))"
   ]
  },
  {
   "cell_type": "code",
   "execution_count": 11,
   "id": "7f7fe40d",
   "metadata": {
    "execution": {
     "iopub.execute_input": "2022-12-27T02:28:58.892806Z",
     "iopub.status.busy": "2022-12-27T02:28:58.892086Z",
     "iopub.status.idle": "2022-12-27T02:28:58.911180Z",
     "shell.execute_reply": "2022-12-27T02:28:58.909667Z"
    },
    "papermill": {
     "duration": 0.043087,
     "end_time": "2022-12-27T02:28:58.913843",
     "exception": false,
     "start_time": "2022-12-27T02:28:58.870756",
     "status": "completed"
    },
    "tags": []
   },
   "outputs": [
    {
     "data": {
      "text/html": [
       "<div>\n",
       "<style scoped>\n",
       "    .dataframe tbody tr th:only-of-type {\n",
       "        vertical-align: middle;\n",
       "    }\n",
       "\n",
       "    .dataframe tbody tr th {\n",
       "        vertical-align: top;\n",
       "    }\n",
       "\n",
       "    .dataframe thead th {\n",
       "        text-align: right;\n",
       "    }\n",
       "</style>\n",
       "<table border=\"1\" class=\"dataframe\">\n",
       "  <thead>\n",
       "    <tr style=\"text-align: right;\">\n",
       "      <th></th>\n",
       "      <th>Job Title</th>\n",
       "      <th>Job Experience Required</th>\n",
       "      <th>Key Skills</th>\n",
       "      <th>Role Category</th>\n",
       "      <th>Location</th>\n",
       "      <th>Functional Area</th>\n",
       "      <th>Industry</th>\n",
       "      <th>Role</th>\n",
       "      <th>Longitude</th>\n",
       "      <th>Latitude</th>\n",
       "      <th>sal</th>\n",
       "    </tr>\n",
       "  </thead>\n",
       "  <tbody>\n",
       "    <tr>\n",
       "      <th>305</th>\n",
       "      <td>iOS Game Developer</td>\n",
       "      <td>3 - 8 yrs</td>\n",
       "      <td>c++| development| gaming| C| software| HTML| ...</td>\n",
       "      <td>Programming &amp; Design</td>\n",
       "      <td>Faridabad,Gurgaon,Mumbai</td>\n",
       "      <td>IT Software - Application Programming , Mainte...</td>\n",
       "      <td>IT-Software, Software Services</td>\n",
       "      <td>Software Developer</td>\n",
       "      <td>77.20056</td>\n",
       "      <td>28.407032</td>\n",
       "      <td>1860</td>\n",
       "    </tr>\n",
       "  </tbody>\n",
       "</table>\n",
       "</div>"
      ],
      "text/plain": [
       "               Job Title Job Experience Required  \\\n",
       "305   iOS Game Developer               3 - 8 yrs   \n",
       "\n",
       "                                            Key Skills         Role Category  \\\n",
       "305   c++| development| gaming| C| software| HTML| ...  Programming & Design   \n",
       "\n",
       "                     Location  \\\n",
       "305  Faridabad,Gurgaon,Mumbai   \n",
       "\n",
       "                                       Functional Area  \\\n",
       "305  IT Software - Application Programming , Mainte...   \n",
       "\n",
       "                           Industry                Role  Longitude   Latitude  \\\n",
       "305  IT-Software, Software Services  Software Developer   77.20056  28.407032   \n",
       "\n",
       "      sal  \n",
       "305  1860  "
      ]
     },
     "execution_count": 11,
     "metadata": {},
     "output_type": "execute_result"
    }
   ],
   "source": [
    "jobs_data[jobs_data[\"Key Skills\"].str.contains('c+\\+')]"
   ]
  },
  {
   "cell_type": "code",
   "execution_count": 12,
   "id": "11e9de25",
   "metadata": {
    "execution": {
     "iopub.execute_input": "2022-12-27T02:28:58.957014Z",
     "iopub.status.busy": "2022-12-27T02:28:58.956377Z",
     "iopub.status.idle": "2022-12-27T02:28:58.962535Z",
     "shell.execute_reply": "2022-12-27T02:28:58.961170Z"
    },
    "papermill": {
     "duration": 0.030448,
     "end_time": "2022-12-27T02:28:58.964992",
     "exception": false,
     "start_time": "2022-12-27T02:28:58.934544",
     "status": "completed"
    },
    "tags": []
   },
   "outputs": [],
   "source": [
    "# Replacing in the key skills vector \"c++\" to \"c+\\+\"\n",
    "key_skill_vector[key_skill_vector.index('c++')] = \"c+\\+\""
   ]
  },
  {
   "cell_type": "markdown",
   "id": "b9b1881f",
   "metadata": {
    "papermill": {
     "duration": 0.020494,
     "end_time": "2022-12-27T02:28:59.005497",
     "exception": false,
     "start_time": "2022-12-27T02:28:58.985003",
     "status": "completed"
    },
    "tags": []
   },
   "source": [
    "<div style=\"background-color:#b4e1eb; padding:20px; border-radius:35px 10px; line-height: 45px\">\n",
    "    <div style=\"font-family: Eras ITC; font-size:16px\">\n",
    "        <p> - <b>The key skill \"c++\" problem</b>: the method .str.contains() from pandas uses regex to find the rows where it is true, however, \"++\" could be interpreted as a functional character, so it needed to be replaced by \"c+\\+\".</p>\n",
    "        <p> - <b>The function below finds the rows that contains the skill</b>, iterating for each skill and concatenating with a DataFrame skill_data that it is returned. <b>The minimum appearences argument filters by the minimum rows that contains the skill</b>, I find the number of 3 is a great number, it filters the specific skills.</p>\n",
    "    </div>\n",
    "</div>"
   ]
  },
  {
   "cell_type": "code",
   "execution_count": 13,
   "id": "5a6e0a3b",
   "metadata": {
    "_kg_hide-input": true,
    "execution": {
     "iopub.execute_input": "2022-12-27T02:28:59.051105Z",
     "iopub.status.busy": "2022-12-27T02:28:59.049853Z",
     "iopub.status.idle": "2022-12-27T02:28:59.058940Z",
     "shell.execute_reply": "2022-12-27T02:28:59.057590Z"
    },
    "papermill": {
     "duration": 0.035205,
     "end_time": "2022-12-27T02:28:59.061738",
     "exception": false,
     "start_time": "2022-12-27T02:28:59.026533",
     "status": "completed"
    },
    "tags": []
   },
   "outputs": [],
   "source": [
    "def key_skill_wage(skills, minimum_appearences=3):\n",
    "    skills_data = dict()\n",
    "\n",
    "    for skill in skills:\n",
    "        # Rows that contain the skill\n",
    "        skill_rows = jobs_data[jobs_data[\"Key Skills\"].str.contains(skill)]\n",
    "\n",
    "        if skill_rows.shape[0] < minimum_appearences:\n",
    "            continue\n",
    "        \n",
    "        skills_data[skill] = skill_rows.sal.mean()\n",
    "    \n",
    "    # Processing the DataFrame\n",
    "    skills_data = pd.DataFrame([skills_data]).T.reset_index()\n",
    "    skills_data.columns = [\"skill\", \"skill_mean_wage\"]\n",
    "    skills_data[\"skill\"] = skills_data.skill.str.title()\n",
    "    \n",
    "    return skills_data"
   ]
  },
  {
   "cell_type": "code",
   "execution_count": 14,
   "id": "20e7a82a",
   "metadata": {
    "execution": {
     "iopub.execute_input": "2022-12-27T02:28:59.105001Z",
     "iopub.status.busy": "2022-12-27T02:28:59.104533Z",
     "iopub.status.idle": "2022-12-27T02:29:00.726218Z",
     "shell.execute_reply": "2022-12-27T02:29:00.725028Z"
    },
    "papermill": {
     "duration": 1.647207,
     "end_time": "2022-12-27T02:29:00.729183",
     "exception": false,
     "start_time": "2022-12-27T02:28:59.081976",
     "status": "completed"
    },
    "tags": []
   },
   "outputs": [
    {
     "data": {
      "text/html": [
       "<div>\n",
       "<style scoped>\n",
       "    .dataframe tbody tr th:only-of-type {\n",
       "        vertical-align: middle;\n",
       "    }\n",
       "\n",
       "    .dataframe tbody tr th {\n",
       "        vertical-align: top;\n",
       "    }\n",
       "\n",
       "    .dataframe thead th {\n",
       "        text-align: right;\n",
       "    }\n",
       "</style>\n",
       "<table border=\"1\" class=\"dataframe\">\n",
       "  <thead>\n",
       "    <tr style=\"text-align: right;\">\n",
       "      <th></th>\n",
       "      <th>skill</th>\n",
       "      <th>skill_mean_wage</th>\n",
       "    </tr>\n",
       "  </thead>\n",
       "  <tbody>\n",
       "    <tr>\n",
       "      <th>0</th>\n",
       "      <td>Building</td>\n",
       "      <td>3945.875</td>\n",
       "    </tr>\n",
       "    <tr>\n",
       "      <th>1</th>\n",
       "      <td>Distributor</td>\n",
       "      <td>5365.000</td>\n",
       "    </tr>\n",
       "    <tr>\n",
       "      <th>2</th>\n",
       "      <td>Monitoring</td>\n",
       "      <td>4103.000</td>\n",
       "    </tr>\n",
       "  </tbody>\n",
       "</table>\n",
       "</div>"
      ],
      "text/plain": [
       "         skill  skill_mean_wage\n",
       "0     Building         3945.875\n",
       "1  Distributor         5365.000\n",
       "2   Monitoring         4103.000"
      ]
     },
     "execution_count": 14,
     "metadata": {},
     "output_type": "execute_result"
    }
   ],
   "source": [
    "more_relevant_skills = key_skill_wage(key_skill_vector, 3)\n",
    "more_relevant_skills.head(3)"
   ]
  },
  {
   "cell_type": "code",
   "execution_count": 15,
   "id": "498637c9",
   "metadata": {
    "execution": {
     "iopub.execute_input": "2022-12-27T02:29:00.774912Z",
     "iopub.status.busy": "2022-12-27T02:29:00.773441Z",
     "iopub.status.idle": "2022-12-27T02:29:00.780771Z",
     "shell.execute_reply": "2022-12-27T02:29:00.779815Z"
    },
    "papermill": {
     "duration": 0.033256,
     "end_time": "2022-12-27T02:29:00.783317",
     "exception": false,
     "start_time": "2022-12-27T02:29:00.750061",
     "status": "completed"
    },
    "tags": []
   },
   "outputs": [],
   "source": [
    "more_relevant_skills.sort_values(\"skill_mean_wage\", ascending=False, inplace=True)"
   ]
  },
  {
   "cell_type": "code",
   "execution_count": 16,
   "id": "30bcb28b",
   "metadata": {
    "_kg_hide-input": true,
    "execution": {
     "iopub.execute_input": "2022-12-27T02:29:00.826369Z",
     "iopub.status.busy": "2022-12-27T02:29:00.825687Z",
     "iopub.status.idle": "2022-12-27T02:29:01.113655Z",
     "shell.execute_reply": "2022-12-27T02:29:01.112230Z"
    },
    "papermill": {
     "duration": 0.313269,
     "end_time": "2022-12-27T02:29:01.117042",
     "exception": false,
     "start_time": "2022-12-27T02:29:00.803773",
     "status": "completed"
    },
    "tags": []
   },
   "outputs": [
    {
     "data": {
      "image/png": "[encoded data removed]",
      "text/plain": [
       "<Figure size 1152x720 with 1 Axes>"
      ]
     },
     "metadata": {
      "needs_background": "light"
     },
     "output_type": "display_data"
    }
   ],
   "source": [
    "palette = sns.color_palette(\"light:#00e699\", 10)[::-1]\n",
    "\n",
    "ax = sns.barplot(data = more_relevant_skills.head(10), \n",
    "                 x = \"skill_mean_wage\", y = \"skill\", palette=palette)\n",
    "ax.figure.set_size_inches(16, 10)\n",
    "\n",
    "ax.set_title(\"Key Skills with the highest mean wage\", fontsize=24, font=font)\n",
    "ax.set_xlabel(\"\")\n",
    "ax.set_ylabel(\"\")\n",
    "plt.xticks(fontsize=20, font=font)\n",
    "plt.yticks(fontsize=20, font=font)\n",
    "\n",
    "ax.spines['top'].set_visible(False)\n",
    "ax.spines['right'].set_visible(False)\n",
    "ax.spines['left'].set(linewidth = 2)\n",
    "ax.spines['bottom'].set(linewidth = 2)\n",
    "\n",
    "i = 0\n",
    "for index, row in more_relevant_skills.head(10).iterrows():\n",
    "    text = \"$ %.2f\" % row['skill_mean_wage']\n",
    "    x = row['skill_mean_wage'] - 900\n",
    "    plt.text(s=text, y = i + 0.1, x=x, font=font, fontsize=24)\n",
    "    i+=1\n",
    "\n",
    "plt.show()"
   ]
  },
  {
   "cell_type": "markdown",
   "id": "cc321929",
   "metadata": {
    "papermill": {
     "duration": 0.021575,
     "end_time": "2022-12-27T02:29:01.161421",
     "exception": false,
     "start_time": "2022-12-27T02:29:01.139846",
     "status": "completed"
    },
    "tags": []
   },
   "source": [
    "<h2 style=\"font-family: Eras Demi ITC\"> Vectorizing the data for Machine Learning</h2>\n",
    "<hr style=\"height:6px;background-color:#6c9596\">\n",
    "<div style='font-family: Eras ITC;font-size:16px;line-height: 45px'> \n",
    "    <p>Now, it needs the data to be vectorized, <b>so each skill will be a different column with a value being 0 (don't have the skill) or 1 (have the skill)</b>, so for each row there will be a vector containing 0s and 1s.</p>\n",
    "    <p><b>In order to find whether a row has the skill, it uses the method .str.contains() from pandas</b>, the method acts like the operator LIKE from SQL.</p>\n",
    "</div>"
   ]
  },
  {
   "cell_type": "code",
   "execution_count": 17,
   "id": "7ac409e2",
   "metadata": {
    "execution": {
     "iopub.execute_input": "2022-12-27T02:29:01.206625Z",
     "iopub.status.busy": "2022-12-27T02:29:01.206178Z",
     "iopub.status.idle": "2022-12-27T02:29:01.648802Z",
     "shell.execute_reply": "2022-12-27T02:29:01.647390Z"
    },
    "papermill": {
     "duration": 0.468734,
     "end_time": "2022-12-27T02:29:01.651854",
     "exception": false,
     "start_time": "2022-12-27T02:29:01.183120",
     "status": "completed"
    },
    "tags": []
   },
   "outputs": [],
   "source": [
    "numerical_skill_vector = list()\n",
    "\n",
    "for index in skills_splitted:\n",
    "    vector = np.zeros(len(key_skill_vector))\n",
    "    \n",
    "    for skill in index:\n",
    "        # Searchs for the skill in the skills vector and adds 1 in the index of the row vector\n",
    "        if skill.lstrip() == \"c++\":\n",
    "            skill_index = key_skill_vector.index(\"c+\\+\")\n",
    "        else:\n",
    "            skill_index = key_skill_vector.index(skill.lstrip())\n",
    "            \n",
    "        vector[skill_index] += 1\n",
    "    \n",
    "    numerical_skill_vector.append(vector)\n",
    "    \n",
    "numerical_skill_vector = pd.DataFrame(numerical_skill_vector, columns = key_skill_vector)"
   ]
  },
  {
   "cell_type": "code",
   "execution_count": 18,
   "id": "1531f8bf",
   "metadata": {
    "execution": {
     "iopub.execute_input": "2022-12-27T02:29:01.697728Z",
     "iopub.status.busy": "2022-12-27T02:29:01.696369Z",
     "iopub.status.idle": "2022-12-27T02:29:01.704740Z",
     "shell.execute_reply": "2022-12-27T02:29:01.703219Z"
    },
    "papermill": {
     "duration": 0.034153,
     "end_time": "2022-12-27T02:29:01.707737",
     "exception": false,
     "start_time": "2022-12-27T02:29:01.673584",
     "status": "completed"
    },
    "tags": []
   },
   "outputs": [
    {
     "data": {
      "text/plain": [
       "(500, 1790)"
      ]
     },
     "execution_count": 18,
     "metadata": {},
     "output_type": "execute_result"
    }
   ],
   "source": [
    "numerical_skill_vector.shape"
   ]
  },
  {
   "cell_type": "code",
   "execution_count": 19,
   "id": "87b54ac3",
   "metadata": {
    "_kg_hide-output": true,
    "execution": {
     "iopub.execute_input": "2022-12-27T02:29:01.754589Z",
     "iopub.status.busy": "2022-12-27T02:29:01.754162Z",
     "iopub.status.idle": "2022-12-27T02:29:01.786635Z",
     "shell.execute_reply": "2022-12-27T02:29:01.785000Z"
    },
    "papermill": {
     "duration": 0.059466,
     "end_time": "2022-12-27T02:29:01.789577",
     "exception": false,
     "start_time": "2022-12-27T02:29:01.730111",
     "status": "completed"
    },
    "tags": []
   },
   "outputs": [
    {
     "data": {
      "text/html": [
       "<div>\n",
       "<style scoped>\n",
       "    .dataframe tbody tr th:only-of-type {\n",
       "        vertical-align: middle;\n",
       "    }\n",
       "\n",
       "    .dataframe tbody tr th {\n",
       "        vertical-align: top;\n",
       "    }\n",
       "\n",
       "    .dataframe thead th {\n",
       "        text-align: right;\n",
       "    }\n",
       "</style>\n",
       "<table border=\"1\" class=\"dataframe\">\n",
       "  <thead>\n",
       "    <tr style=\"text-align: right;\">\n",
       "      <th></th>\n",
       "      <th>unix operating system</th>\n",
       "      <th>service delivery</th>\n",
       "      <th>network elements</th>\n",
       "      <th>diploma</th>\n",
       "      <th>sales development</th>\n",
       "      <th>website analysis</th>\n",
       "      <th>quality inspection</th>\n",
       "      <th>microstrategy</th>\n",
       "      <th>networking sales</th>\n",
       "      <th>change management</th>\n",
       "      <th>...</th>\n",
       "      <th>c+\\+</th>\n",
       "      <th>sterling integrator</th>\n",
       "      <th>support executive</th>\n",
       "      <th>electronic trading</th>\n",
       "      <th>statistics</th>\n",
       "      <th>sterling</th>\n",
       "      <th>development</th>\n",
       "      <th>ieee</th>\n",
       "      <th>archiving</th>\n",
       "      <th>google adwords</th>\n",
       "    </tr>\n",
       "  </thead>\n",
       "  <tbody>\n",
       "    <tr>\n",
       "      <th>0</th>\n",
       "      <td>0.0</td>\n",
       "      <td>0.0</td>\n",
       "      <td>0.0</td>\n",
       "      <td>0.0</td>\n",
       "      <td>0.0</td>\n",
       "      <td>0.0</td>\n",
       "      <td>0.0</td>\n",
       "      <td>0.0</td>\n",
       "      <td>0.0</td>\n",
       "      <td>0.0</td>\n",
       "      <td>...</td>\n",
       "      <td>0.0</td>\n",
       "      <td>0.0</td>\n",
       "      <td>0.0</td>\n",
       "      <td>0.0</td>\n",
       "      <td>0.0</td>\n",
       "      <td>0.0</td>\n",
       "      <td>0.0</td>\n",
       "      <td>0.0</td>\n",
       "      <td>0.0</td>\n",
       "      <td>0.0</td>\n",
       "    </tr>\n",
       "    <tr>\n",
       "      <th>1</th>\n",
       "      <td>0.0</td>\n",
       "      <td>0.0</td>\n",
       "      <td>0.0</td>\n",
       "      <td>0.0</td>\n",
       "      <td>0.0</td>\n",
       "      <td>0.0</td>\n",
       "      <td>0.0</td>\n",
       "      <td>0.0</td>\n",
       "      <td>0.0</td>\n",
       "      <td>0.0</td>\n",
       "      <td>...</td>\n",
       "      <td>0.0</td>\n",
       "      <td>0.0</td>\n",
       "      <td>0.0</td>\n",
       "      <td>0.0</td>\n",
       "      <td>0.0</td>\n",
       "      <td>0.0</td>\n",
       "      <td>0.0</td>\n",
       "      <td>0.0</td>\n",
       "      <td>0.0</td>\n",
       "      <td>0.0</td>\n",
       "    </tr>\n",
       "    <tr>\n",
       "      <th>2</th>\n",
       "      <td>0.0</td>\n",
       "      <td>0.0</td>\n",
       "      <td>0.0</td>\n",
       "      <td>0.0</td>\n",
       "      <td>0.0</td>\n",
       "      <td>0.0</td>\n",
       "      <td>0.0</td>\n",
       "      <td>0.0</td>\n",
       "      <td>0.0</td>\n",
       "      <td>0.0</td>\n",
       "      <td>...</td>\n",
       "      <td>0.0</td>\n",
       "      <td>0.0</td>\n",
       "      <td>0.0</td>\n",
       "      <td>0.0</td>\n",
       "      <td>0.0</td>\n",
       "      <td>0.0</td>\n",
       "      <td>0.0</td>\n",
       "      <td>0.0</td>\n",
       "      <td>0.0</td>\n",
       "      <td>0.0</td>\n",
       "    </tr>\n",
       "  </tbody>\n",
       "</table>\n",
       "<p>3 rows × 1790 columns</p>\n",
       "</div>"
      ],
      "text/plain": [
       "   unix operating system  service delivery  network elements  diploma  \\\n",
       "0                    0.0               0.0               0.0      0.0   \n",
       "1                    0.0               0.0               0.0      0.0   \n",
       "2                    0.0               0.0               0.0      0.0   \n",
       "\n",
       "   sales development  website analysis  quality inspection  microstrategy  \\\n",
       "0                0.0               0.0                 0.0            0.0   \n",
       "1                0.0               0.0                 0.0            0.0   \n",
       "2                0.0               0.0                 0.0            0.0   \n",
       "\n",
       "   networking sales  change management  ...  c+\\+  sterling integrator  \\\n",
       "0               0.0                0.0  ...   0.0                  0.0   \n",
       "1               0.0                0.0  ...   0.0                  0.0   \n",
       "2               0.0                0.0  ...   0.0                  0.0   \n",
       "\n",
       "   support executive  electronic trading  statistics  sterling  development  \\\n",
       "0                0.0                 0.0         0.0       0.0          0.0   \n",
       "1                0.0                 0.0         0.0       0.0          0.0   \n",
       "2                0.0                 0.0         0.0       0.0          0.0   \n",
       "\n",
       "   ieee  archiving  google adwords  \n",
       "0   0.0        0.0             0.0  \n",
       "1   0.0        0.0             0.0  \n",
       "2   0.0        0.0             0.0  \n",
       "\n",
       "[3 rows x 1790 columns]"
      ]
     },
     "execution_count": 19,
     "metadata": {},
     "output_type": "execute_result"
    }
   ],
   "source": [
    "numerical_skill_vector.head(3)"
   ]
  },
  {
   "cell_type": "markdown",
   "id": "fdf49277",
   "metadata": {
    "papermill": {
     "duration": 0.02181,
     "end_time": "2022-12-27T02:29:01.833302",
     "exception": false,
     "start_time": "2022-12-27T02:29:01.811492",
     "status": "completed"
    },
    "tags": []
   },
   "source": [
    "<div style=\"background-color:#b4e1eb; padding:20px; border-radius:35px 10px\">\n",
    "    <div style=\"font-family: Eras ITC; font-size:16px\">\n",
    "        <p> - Now, there's a vector for each key skill, ready to be used by regression model. </p>\n",
    "    </div>\n",
    "</div>"
   ]
  },
  {
   "cell_type": "markdown",
   "id": "8ea20375",
   "metadata": {
    "papermill": {
     "duration": 0.022403,
     "end_time": "2022-12-27T02:29:01.877717",
     "exception": false,
     "start_time": "2022-12-27T02:29:01.855314",
     "status": "completed"
    },
    "tags": []
   },
   "source": [
    "<div id=\"5\" style='font-size:48px; text-align:center; font-family: Eras Demi ITC;\n",
    "                background-color:#b4e1eb; border: 8px solid #6c9596; \n",
    "                border-radius:25px'> Years of Experience </div>"
   ]
  },
  {
   "cell_type": "markdown",
   "id": "9bc1b0e5",
   "metadata": {
    "papermill": {
     "duration": 0.021882,
     "end_time": "2022-12-27T02:29:01.922070",
     "exception": false,
     "start_time": "2022-12-27T02:29:01.900188",
     "status": "completed"
    },
    "tags": []
   },
   "source": [
    "<h2 style=\"font-family: Eras Demi ITC\"> Analyzing the years of experience</h2>\n",
    "<hr style=\"height:6px;background-color:#6c9596\">\n",
    "<div style='font-family: Eras ITC;font-size:16px; line-height: 45px'> Dividing the years of experience in minimum indicated years of experience and \"maximum\", creating the recommended interval from data, even though there aren't minimum or maximum. This method will work better than a categorical transformation of the column.</div>"
   ]
  },
  {
   "cell_type": "code",
   "execution_count": 20,
   "id": "fed37b52",
   "metadata": {
    "execution": {
     "iopub.execute_input": "2022-12-27T02:29:01.969167Z",
     "iopub.status.busy": "2022-12-27T02:29:01.968718Z",
     "iopub.status.idle": "2022-12-27T02:29:01.979273Z",
     "shell.execute_reply": "2022-12-27T02:29:01.977813Z"
    },
    "papermill": {
     "duration": 0.037005,
     "end_time": "2022-12-27T02:29:01.982022",
     "exception": false,
     "start_time": "2022-12-27T02:29:01.945017",
     "status": "completed"
    },
    "tags": []
   },
   "outputs": [
    {
     "data": {
      "text/plain": [
       "[2, 7]"
      ]
     },
     "execution_count": 20,
     "metadata": {},
     "output_type": "execute_result"
    }
   ],
   "source": [
    "most_common = jobs_data['Job Experience Required']\\\n",
    "                        .value_counts()\\\n",
    "                        .keys()[0]\\\n",
    "                        .split(\" \")\n",
    "\n",
    "most_common = [int(i) for i in most_common if i.isnumeric()]\n",
    "most_common"
   ]
  },
  {
   "cell_type": "markdown",
   "id": "b2ee3b71",
   "metadata": {
    "papermill": {
     "duration": 0.023276,
     "end_time": "2022-12-27T02:29:02.028228",
     "exception": false,
     "start_time": "2022-12-27T02:29:02.004952",
     "status": "completed"
    },
    "tags": []
   },
   "source": [
    "<div style=\"background-color:#b4e1eb; padding:20px; border-radius:35px 10px; line-height: 45px\">\n",
    "    <div style=\"font-family: Eras ITC; font-size:16px\">\n",
    "        <p> - The most common required interval of experience is <b>2 to 7 years</b>, the rows that don't have data will be completed by the most common.</p>\n",
    "        <p> - <b>There are rows that don't have numeric data, it's filled by \"vide\" or \"Not Mentioned\"</b>, as showed below.</p>\n",
    "        <p> - In order to find the interval of years of experience, <b>it splitted the columns by \" \"</b>, so the numeric itens will be the first and the third. It will find these numeric itens by using the function <b>.isnumeric()</b>, it doesn't just get the first and third item because of values of length 1 or 2, mentioned before (\"vide\").</p>\n",
    "        <p> - The final result is a list of lists, with the first value being the minimum and the second the maximum.</p>\n",
    "    </div>\n",
    "</div>"
   ]
  },
  {
   "cell_type": "code",
   "execution_count": 21,
   "id": "f0590e5a",
   "metadata": {
    "_kg_hide-output": true,
    "execution": {
     "iopub.execute_input": "2022-12-27T02:29:02.075444Z",
     "iopub.status.busy": "2022-12-27T02:29:02.074995Z",
     "iopub.status.idle": "2022-12-27T02:29:02.085016Z",
     "shell.execute_reply": "2022-12-27T02:29:02.083752Z"
    },
    "papermill": {
     "duration": 0.036895,
     "end_time": "2022-12-27T02:29:02.087538",
     "exception": false,
     "start_time": "2022-12-27T02:29:02.050643",
     "status": "completed"
    },
    "tags": []
   },
   "outputs": [
    {
     "data": {
      "text/plain": [
       "0      5 - 10 yrs\n",
       "1       2 - 5 yrs\n",
       "2       0 - 1 yrs\n",
       "3       0 - 5 yrs\n",
       "4       2 - 5 yrs\n",
       "          ...    \n",
       "495     2 - 7 yrs\n",
       "496     5 - 8 yrs\n",
       "497     4 - 9 yrs\n",
       "498     0 - 2 yrs\n",
       "499     2 - 5 yrs\n",
       "Name: Job Experience Required, Length: 500, dtype: object"
      ]
     },
     "execution_count": 21,
     "metadata": {},
     "output_type": "execute_result"
    }
   ],
   "source": [
    "jobs_data['Job Experience Required']"
   ]
  },
  {
   "cell_type": "code",
   "execution_count": 22,
   "id": "c90305f2",
   "metadata": {
    "execution": {
     "iopub.execute_input": "2022-12-27T02:29:02.135149Z",
     "iopub.status.busy": "2022-12-27T02:29:02.134686Z",
     "iopub.status.idle": "2022-12-27T02:29:02.145065Z",
     "shell.execute_reply": "2022-12-27T02:29:02.143862Z"
    },
    "papermill": {
     "duration": 0.03683,
     "end_time": "2022-12-27T02:29:02.147763",
     "exception": false,
     "start_time": "2022-12-27T02:29:02.110933",
     "status": "completed"
    },
    "tags": []
   },
   "outputs": [
    {
     "name": "stdout",
     "output_type": "stream",
     "text": [
      "Non numeric values:\n",
      "\n",
      "['vide']\n",
      "['vide']\n",
      "['Not', 'Mentioned']\n",
      "['vide']\n",
      "['vide']\n",
      "['vide']\n",
      "['vide']\n",
      "['vide']\n",
      "['vide']\n",
      "['vide']\n",
      "['vide']\n",
      "['vide']\n"
     ]
    }
   ],
   "source": [
    "experience_data = jobs_data['Job Experience Required'].str.split(\" \").values\n",
    "years_of_experience = list()\n",
    "\n",
    "print(\"Non numeric values:\\n\")\n",
    "for row in experience_data:\n",
    "    row_data = [int(item) for item in row if item.isnumeric()]\n",
    "    \n",
    "    # If the years of experience are empty because of non numeric items, it completes with the most common\n",
    "    if row_data == []:\n",
    "        print(row)\n",
    "        row_data = [int(most_common[0]), int(most_common[1])]\n",
    "    \n",
    "        \n",
    "    years_of_experience.append(row_data)"
   ]
  },
  {
   "cell_type": "code",
   "execution_count": 23,
   "id": "d5be05a5",
   "metadata": {
    "execution": {
     "iopub.execute_input": "2022-12-27T02:29:02.195542Z",
     "iopub.status.busy": "2022-12-27T02:29:02.195083Z",
     "iopub.status.idle": "2022-12-27T02:29:02.202564Z",
     "shell.execute_reply": "2022-12-27T02:29:02.201441Z"
    },
    "papermill": {
     "duration": 0.034058,
     "end_time": "2022-12-27T02:29:02.205040",
     "exception": false,
     "start_time": "2022-12-27T02:29:02.170982",
     "status": "completed"
    },
    "tags": []
   },
   "outputs": [
    {
     "data": {
      "text/plain": [
       "[[5, 10], [2, 5], [0, 1], [0, 5], [2, 5]]"
      ]
     },
     "execution_count": 23,
     "metadata": {},
     "output_type": "execute_result"
    }
   ],
   "source": [
    "# List of lists\n",
    "years_of_experience[:5]"
   ]
  },
  {
   "cell_type": "code",
   "execution_count": 24,
   "id": "4dbe7a70",
   "metadata": {
    "execution": {
     "iopub.execute_input": "2022-12-27T02:29:02.253102Z",
     "iopub.status.busy": "2022-12-27T02:29:02.252652Z",
     "iopub.status.idle": "2022-12-27T02:29:02.258898Z",
     "shell.execute_reply": "2022-12-27T02:29:02.257788Z"
    },
    "papermill": {
     "duration": 0.033094,
     "end_time": "2022-12-27T02:29:02.261284",
     "exception": false,
     "start_time": "2022-12-27T02:29:02.228190",
     "status": "completed"
    },
    "tags": []
   },
   "outputs": [],
   "source": [
    "years_of_experience = np.array(years_of_experience)\n",
    "min_exp, max_exp = years_of_experience[:, 0], years_of_experience[:, 1]"
   ]
  },
  {
   "cell_type": "code",
   "execution_count": 25,
   "id": "cc1937ca",
   "metadata": {
    "execution": {
     "iopub.execute_input": "2022-12-27T02:29:02.310638Z",
     "iopub.status.busy": "2022-12-27T02:29:02.310177Z",
     "iopub.status.idle": "2022-12-27T02:29:02.323770Z",
     "shell.execute_reply": "2022-12-27T02:29:02.322620Z"
    },
    "papermill": {
     "duration": 0.041615,
     "end_time": "2022-12-27T02:29:02.326280",
     "exception": false,
     "start_time": "2022-12-27T02:29:02.284665",
     "status": "completed"
    },
    "tags": []
   },
   "outputs": [
    {
     "data": {
      "text/html": [
       "<div>\n",
       "<style scoped>\n",
       "    .dataframe tbody tr th:only-of-type {\n",
       "        vertical-align: middle;\n",
       "    }\n",
       "\n",
       "    .dataframe tbody tr th {\n",
       "        vertical-align: top;\n",
       "    }\n",
       "\n",
       "    .dataframe thead th {\n",
       "        text-align: right;\n",
       "    }\n",
       "</style>\n",
       "<table border=\"1\" class=\"dataframe\">\n",
       "  <thead>\n",
       "    <tr style=\"text-align: right;\">\n",
       "      <th></th>\n",
       "      <th>sal</th>\n",
       "      <th>min_exp</th>\n",
       "      <th>max_exp</th>\n",
       "    </tr>\n",
       "  </thead>\n",
       "  <tbody>\n",
       "    <tr>\n",
       "      <th>0</th>\n",
       "      <td>3855</td>\n",
       "      <td>5</td>\n",
       "      <td>10</td>\n",
       "    </tr>\n",
       "    <tr>\n",
       "      <th>1</th>\n",
       "      <td>2639</td>\n",
       "      <td>2</td>\n",
       "      <td>5</td>\n",
       "    </tr>\n",
       "    <tr>\n",
       "      <th>2</th>\n",
       "      <td>2156</td>\n",
       "      <td>0</td>\n",
       "      <td>1</td>\n",
       "    </tr>\n",
       "    <tr>\n",
       "      <th>3</th>\n",
       "      <td>4059</td>\n",
       "      <td>0</td>\n",
       "      <td>5</td>\n",
       "    </tr>\n",
       "    <tr>\n",
       "      <th>4</th>\n",
       "      <td>5347</td>\n",
       "      <td>2</td>\n",
       "      <td>5</td>\n",
       "    </tr>\n",
       "  </tbody>\n",
       "</table>\n",
       "</div>"
      ],
      "text/plain": [
       "    sal  min_exp  max_exp\n",
       "0  3855        5       10\n",
       "1  2639        2        5\n",
       "2  2156        0        1\n",
       "3  4059        0        5\n",
       "4  5347        2        5"
      ]
     },
     "execution_count": 25,
     "metadata": {},
     "output_type": "execute_result"
    }
   ],
   "source": [
    "exp_data = jobs_data[[\"sal\"]]\n",
    "exp_data['min_exp'] = min_exp\n",
    "exp_data['max_exp'] = max_exp\n",
    "exp_data.head()"
   ]
  },
  {
   "cell_type": "code",
   "execution_count": 26,
   "id": "3b2c30d5",
   "metadata": {
    "execution": {
     "iopub.execute_input": "2022-12-27T02:29:02.375274Z",
     "iopub.status.busy": "2022-12-27T02:29:02.374107Z",
     "iopub.status.idle": "2022-12-27T02:29:02.398224Z",
     "shell.execute_reply": "2022-12-27T02:29:02.396793Z"
    },
    "papermill": {
     "duration": 0.05128,
     "end_time": "2022-12-27T02:29:02.401123",
     "exception": false,
     "start_time": "2022-12-27T02:29:02.349843",
     "status": "completed"
    },
    "tags": []
   },
   "outputs": [
    {
     "data": {
      "text/html": [
       "<div>\n",
       "<style scoped>\n",
       "    .dataframe tbody tr th:only-of-type {\n",
       "        vertical-align: middle;\n",
       "    }\n",
       "\n",
       "    .dataframe tbody tr th {\n",
       "        vertical-align: top;\n",
       "    }\n",
       "\n",
       "    .dataframe thead th {\n",
       "        text-align: right;\n",
       "    }\n",
       "</style>\n",
       "<table border=\"1\" class=\"dataframe\">\n",
       "  <thead>\n",
       "    <tr style=\"text-align: right;\">\n",
       "      <th></th>\n",
       "      <th>sal</th>\n",
       "      <th>min_exp</th>\n",
       "      <th>max_exp</th>\n",
       "    </tr>\n",
       "  </thead>\n",
       "  <tbody>\n",
       "    <tr>\n",
       "      <th>count</th>\n",
       "      <td>500.000000</td>\n",
       "      <td>500.000000</td>\n",
       "      <td>500.000000</td>\n",
       "    </tr>\n",
       "    <tr>\n",
       "      <th>mean</th>\n",
       "      <td>4224.594000</td>\n",
       "      <td>3.406000</td>\n",
       "      <td>6.964000</td>\n",
       "    </tr>\n",
       "    <tr>\n",
       "      <th>std</th>\n",
       "      <td>1598.716696</td>\n",
       "      <td>3.268414</td>\n",
       "      <td>4.154663</td>\n",
       "    </tr>\n",
       "    <tr>\n",
       "      <th>min</th>\n",
       "      <td>1510.000000</td>\n",
       "      <td>0.000000</td>\n",
       "      <td>0.000000</td>\n",
       "    </tr>\n",
       "    <tr>\n",
       "      <th>25%</th>\n",
       "      <td>2864.250000</td>\n",
       "      <td>1.000000</td>\n",
       "      <td>4.000000</td>\n",
       "    </tr>\n",
       "    <tr>\n",
       "      <th>50%</th>\n",
       "      <td>4213.000000</td>\n",
       "      <td>2.000000</td>\n",
       "      <td>6.000000</td>\n",
       "    </tr>\n",
       "    <tr>\n",
       "      <th>75%</th>\n",
       "      <td>5623.000000</td>\n",
       "      <td>5.000000</td>\n",
       "      <td>8.000000</td>\n",
       "    </tr>\n",
       "    <tr>\n",
       "      <th>max</th>\n",
       "      <td>6991.000000</td>\n",
       "      <td>20.000000</td>\n",
       "      <td>27.000000</td>\n",
       "    </tr>\n",
       "  </tbody>\n",
       "</table>\n",
       "</div>"
      ],
      "text/plain": [
       "               sal     min_exp     max_exp\n",
       "count   500.000000  500.000000  500.000000\n",
       "mean   4224.594000    3.406000    6.964000\n",
       "std    1598.716696    3.268414    4.154663\n",
       "min    1510.000000    0.000000    0.000000\n",
       "25%    2864.250000    1.000000    4.000000\n",
       "50%    4213.000000    2.000000    6.000000\n",
       "75%    5623.000000    5.000000    8.000000\n",
       "max    6991.000000   20.000000   27.000000"
      ]
     },
     "execution_count": 26,
     "metadata": {},
     "output_type": "execute_result"
    }
   ],
   "source": [
    "exp_data.describe()"
   ]
  },
  {
   "cell_type": "markdown",
   "id": "1ab6bd3e",
   "metadata": {
    "papermill": {
     "duration": 0.022975,
     "end_time": "2022-12-27T02:29:02.447159",
     "exception": false,
     "start_time": "2022-12-27T02:29:02.424184",
     "status": "completed"
    },
    "tags": []
   },
   "source": [
    "<div style=\"background-color:#b4e1eb; padding:20px; border-radius:35px 10px; line-height: 45px\">\n",
    "    <div style=\"font-family: Eras ITC; font-size:16px\">\n",
    "        <p> - <b>There are outliers like the minimum of experience of 20 years</b>, but it's possible, the same way <b>maximum experience of 0 years</b>, referring to starting jobs. The boxplot below shows that in an easy way of visualization.</p>\n",
    "        <p> - Also, the data for years of experience is already<b> ready to be used by regression model</b>.</p>\n",
    "    </div>\n",
    "</div>"
   ]
  },
  {
   "cell_type": "code",
   "execution_count": 27,
   "id": "7b15343b",
   "metadata": {
    "_kg_hide-input": true,
    "execution": {
     "iopub.execute_input": "2022-12-27T02:29:02.495478Z",
     "iopub.status.busy": "2022-12-27T02:29:02.495000Z",
     "iopub.status.idle": "2022-12-27T02:29:02.728407Z",
     "shell.execute_reply": "2022-12-27T02:29:02.727369Z"
    },
    "papermill": {
     "duration": 0.260159,
     "end_time": "2022-12-27T02:29:02.730650",
     "exception": false,
     "start_time": "2022-12-27T02:29:02.470491",
     "status": "completed"
    },
    "tags": []
   },
   "outputs": [
    {
     "data": {
      "image/png": "[encoded data removed]",
      "text/plain": [
       "<Figure size 1152x720 with 2 Axes>"
      ]
     },
     "metadata": {
      "needs_background": "light"
     },
     "output_type": "display_data"
    }
   ],
   "source": [
    "plt.figure(figsize=(16, 10))\n",
    "\n",
    "plt.subplot(2, 1, 1)\n",
    "ax = sns.boxplot(data = exp_data, x = \"min_exp\", color=\"#70b2a8\")\n",
    "ax.set_title(\"Minimum Experience\", fontsize=24, font=font)\n",
    "ax.set_xlabel(\"\")\n",
    "plt.xticks(font=font, fontsize=16)\n",
    "plt.xlim(-1, 28)\n",
    "\n",
    "plt.subplot(2, 1, 2)\n",
    "ax = sns.boxplot(data = exp_data, x = \"max_exp\", color=\"#a64f59\")\n",
    "ax.set_title(\"Maximum Experience\", fontsize=24, font=font)\n",
    "ax.set_xlabel(\"\")\n",
    "plt.xticks(font=font, fontsize=16)\n",
    "plt.xlim(-1, 28)\n",
    "\n",
    "plt.show()"
   ]
  },
  {
   "cell_type": "code",
   "execution_count": 28,
   "id": "dae2b81f",
   "metadata": {
    "_kg_hide-input": true,
    "execution": {
     "iopub.execute_input": "2022-12-27T02:29:02.780866Z",
     "iopub.status.busy": "2022-12-27T02:29:02.780183Z",
     "iopub.status.idle": "2022-12-27T02:29:03.124608Z",
     "shell.execute_reply": "2022-12-27T02:29:03.123057Z"
    },
    "papermill": {
     "duration": 0.373056,
     "end_time": "2022-12-27T02:29:03.127632",
     "exception": false,
     "start_time": "2022-12-27T02:29:02.754576",
     "status": "completed"
    },
    "tags": []
   },
   "outputs": [
    {
     "data": {
      "image/png": "[encoded data removed]",
      "text/plain": [
       "<Figure size 1152x720 with 1 Axes>"
      ]
     },
     "metadata": {
      "needs_background": "light"
     },
     "output_type": "display_data"
    }
   ],
   "source": [
    "ax = sns.barplot(data = exp_data.groupby(\"min_exp\").mean().reset_index(), \n",
    "                  x = \"min_exp\", y = \"sal\", palette = \"coolwarm\")\n",
    "\n",
    "ax.figure.set_size_inches(16, 10)\n",
    "ax.set_title(\"Minimum Experience x Salary\", fontsize=24, font=font)\n",
    "ax.set_ylabel(\"Salary\", fontsize=18, font=font)\n",
    "ax.set_xlabel(\"Minimum Years of Experience\", fontsize=18, font=font)\n",
    "\n",
    "plt.xticks(font=font, fontsize=14)\n",
    "plt.yticks(font=font, fontsize=14)\n",
    "\n",
    "\n",
    "plt.show()"
   ]
  },
  {
   "cell_type": "markdown",
   "id": "ce3de155",
   "metadata": {
    "papermill": {
     "duration": 0.02406,
     "end_time": "2022-12-27T02:29:03.176897",
     "exception": false,
     "start_time": "2022-12-27T02:29:03.152837",
     "status": "completed"
    },
    "tags": []
   },
   "source": [
    "<div style=\"background-color:#b4e1eb; padding:20px; border-radius:35px 10px\">\n",
    "    <div style=\"font-family: Eras ITC; font-size:16px;line-height:45px\">\n",
    "        <p> - <b>The data don't contain enough rows with more than 10 years of experience required</b>, so the graph gives the impression of constant salary among the years of working. <b>The lack of data with many years required is understandable, since the most common is until 7 years</b>, which companies consider enough for high positions.</p>\n",
    "    </div>\n",
    "</div>"
   ]
  },
  {
   "cell_type": "markdown",
   "id": "72e00fc8",
   "metadata": {
    "papermill": {
     "duration": 0.023534,
     "end_time": "2022-12-27T02:29:03.225349",
     "exception": false,
     "start_time": "2022-12-27T02:29:03.201815",
     "status": "completed"
    },
    "tags": []
   },
   "source": [
    "<div id=\"6\" style='font-size:48px; text-align:center; font-family: Eras Demi ITC;\n",
    "                background-color:#b4e1eb; border: 8px solid #6c9596;\n",
    "                border-radius:25px'> The Job Industry </div>"
   ]
  },
  {
   "cell_type": "markdown",
   "id": "8da576c3",
   "metadata": {
    "papermill": {
     "duration": 0.024823,
     "end_time": "2022-12-27T02:29:03.274543",
     "exception": false,
     "start_time": "2022-12-27T02:29:03.249720",
     "status": "completed"
    },
    "tags": []
   },
   "source": [
    "<h2 style=\"font-family: Eras Demi ITC\"> Analyzing industry of the jobs</h2>\n",
    "<hr style=\"height:6px;background-color:#6c9596\">\n",
    "<div style='font-family: Eras ITC;font-size:16px; line-height: 45px'> Does it have an industry that is more valuable than the others? Does the difference appears even with same experience level?</div>"
   ]
  },
  {
   "cell_type": "code",
   "execution_count": 29,
   "id": "522d8ff3",
   "metadata": {
    "execution": {
     "iopub.execute_input": "2022-12-27T02:29:03.327163Z",
     "iopub.status.busy": "2022-12-27T02:29:03.326691Z",
     "iopub.status.idle": "2022-12-27T02:29:03.351353Z",
     "shell.execute_reply": "2022-12-27T02:29:03.349786Z"
    },
    "papermill": {
     "duration": 0.053853,
     "end_time": "2022-12-27T02:29:03.354311",
     "exception": false,
     "start_time": "2022-12-27T02:29:03.300458",
     "status": "completed"
    },
    "tags": []
   },
   "outputs": [
    {
     "data": {
      "text/html": [
       "<div>\n",
       "<style scoped>\n",
       "    .dataframe tbody tr th:only-of-type {\n",
       "        vertical-align: middle;\n",
       "    }\n",
       "\n",
       "    .dataframe tbody tr th {\n",
       "        vertical-align: top;\n",
       "    }\n",
       "\n",
       "    .dataframe thead th {\n",
       "        text-align: right;\n",
       "    }\n",
       "</style>\n",
       "<table border=\"1\" class=\"dataframe\">\n",
       "  <thead>\n",
       "    <tr style=\"text-align: right;\">\n",
       "      <th></th>\n",
       "      <th>Job Title</th>\n",
       "      <th>Job Experience Required</th>\n",
       "      <th>Key Skills</th>\n",
       "      <th>Role Category</th>\n",
       "      <th>Location</th>\n",
       "      <th>Functional Area</th>\n",
       "      <th>Industry</th>\n",
       "      <th>Role</th>\n",
       "      <th>Longitude</th>\n",
       "      <th>Latitude</th>\n",
       "      <th>sal</th>\n",
       "      <th>min_exp</th>\n",
       "      <th>max_exp</th>\n",
       "    </tr>\n",
       "  </thead>\n",
       "  <tbody>\n",
       "    <tr>\n",
       "      <th>0</th>\n",
       "      <td>Digital Media Planner</td>\n",
       "      <td>5 - 10 yrs</td>\n",
       "      <td>Media Planning| Digital Media</td>\n",
       "      <td>Advertising</td>\n",
       "      <td>Mumbai</td>\n",
       "      <td>Marketing , Advertising , MR , PR , Media Plan...</td>\n",
       "      <td>Advertising, PR, MR, Event Management</td>\n",
       "      <td>Media Planning Executive/Manager</td>\n",
       "      <td>72.877393</td>\n",
       "      <td>19.075990</td>\n",
       "      <td>3855</td>\n",
       "      <td>5</td>\n",
       "      <td>10</td>\n",
       "    </tr>\n",
       "    <tr>\n",
       "      <th>1</th>\n",
       "      <td>Online Bidding Executive</td>\n",
       "      <td>2 - 5 yrs</td>\n",
       "      <td>pre sales| closing| software knowledge| clien...</td>\n",
       "      <td>Retail Sales</td>\n",
       "      <td>Pune,Pune</td>\n",
       "      <td>Sales , Retail , Business Development</td>\n",
       "      <td>IT-Software, Software Services</td>\n",
       "      <td>Sales Executive/Officer</td>\n",
       "      <td>73.854454</td>\n",
       "      <td>18.521428</td>\n",
       "      <td>2639</td>\n",
       "      <td>2</td>\n",
       "      <td>5</td>\n",
       "    </tr>\n",
       "  </tbody>\n",
       "</table>\n",
       "</div>"
      ],
      "text/plain": [
       "                   Job Title Job Experience Required  \\\n",
       "0      Digital Media Planner              5 - 10 yrs   \n",
       "1   Online Bidding Executive               2 - 5 yrs   \n",
       "\n",
       "                                          Key Skills Role Category   Location  \\\n",
       "0                      Media Planning| Digital Media   Advertising     Mumbai   \n",
       "1   pre sales| closing| software knowledge| clien...  Retail Sales  Pune,Pune   \n",
       "\n",
       "                                     Functional Area  \\\n",
       "0  Marketing , Advertising , MR , PR , Media Plan...   \n",
       "1              Sales , Retail , Business Development   \n",
       "\n",
       "                                Industry                              Role  \\\n",
       "0  Advertising, PR, MR, Event Management  Media Planning Executive/Manager   \n",
       "1         IT-Software, Software Services           Sales Executive/Officer   \n",
       "\n",
       "   Longitude   Latitude   sal  min_exp  max_exp  \n",
       "0  72.877393  19.075990  3855        5       10  \n",
       "1  73.854454  18.521428  2639        2        5  "
      ]
     },
     "execution_count": 29,
     "metadata": {},
     "output_type": "execute_result"
    }
   ],
   "source": [
    "industry_data = jobs_data.join(exp_data[[\"min_exp\", \"max_exp\"]])\n",
    "industry_data.head(2)"
   ]
  },
  {
   "cell_type": "code",
   "execution_count": 30,
   "id": "6f733f18",
   "metadata": {
    "execution": {
     "iopub.execute_input": "2022-12-27T02:29:03.403794Z",
     "iopub.status.busy": "2022-12-27T02:29:03.403323Z",
     "iopub.status.idle": "2022-12-27T02:29:03.412228Z",
     "shell.execute_reply": "2022-12-27T02:29:03.410692Z"
    },
    "papermill": {
     "duration": 0.036708,
     "end_time": "2022-12-27T02:29:03.414951",
     "exception": false,
     "start_time": "2022-12-27T02:29:03.378243",
     "status": "completed"
    },
    "tags": []
   },
   "outputs": [],
   "source": [
    "industry_for_row = list(industry_data['Industry'].fillna(\"Other\").str.split(\",\"))"
   ]
  },
  {
   "cell_type": "markdown",
   "id": "f9cfb022",
   "metadata": {
    "papermill": {
     "duration": 0.023801,
     "end_time": "2022-12-27T02:29:03.463732",
     "exception": false,
     "start_time": "2022-12-27T02:29:03.439931",
     "status": "completed"
    },
    "tags": []
   },
   "source": [
    "<div style=\"background-color:#b4e1eb; padding:20px; border-radius:35px 10px; line-height: 45px\">\n",
    "    <div style=\"font-family: Eras ITC; font-size:16px\">\n",
    "        <p> - There were null data in industry column, so <b>it got replaced by \"Other\"</b>.</p>\n",
    "        <p> - The method to find the industry is the same for the skill, except from the spliter, that now is the comma. It creates a flatten list with each industry.</p>\n",
    "    </div>\n",
    "</div>"
   ]
  },
  {
   "cell_type": "code",
   "execution_count": 31,
   "id": "ba2c118d",
   "metadata": {
    "execution": {
     "iopub.execute_input": "2022-12-27T02:29:03.514999Z",
     "iopub.status.busy": "2022-12-27T02:29:03.513688Z",
     "iopub.status.idle": "2022-12-27T02:29:03.523286Z",
     "shell.execute_reply": "2022-12-27T02:29:03.522098Z"
    },
    "papermill": {
     "duration": 0.037831,
     "end_time": "2022-12-27T02:29:03.525763",
     "exception": false,
     "start_time": "2022-12-27T02:29:03.487932",
     "status": "completed"
    },
    "tags": []
   },
   "outputs": [
    {
     "data": {
      "text/plain": [
       "['Advertising', 'PR', 'MR', 'Event Management', 'IT-Software']"
      ]
     },
     "execution_count": 31,
     "metadata": {},
     "output_type": "execute_result"
    }
   ],
   "source": [
    "#Flatten the list\n",
    "industry_fields_list = list()\n",
    "\n",
    "for item_list in industry_for_row:\n",
    "    itens = [item.lstrip() for item in item_list]\n",
    "    industry_fields_list += itens\n",
    "\n",
    "industry_fields_list[:5]"
   ]
  },
  {
   "cell_type": "code",
   "execution_count": 32,
   "id": "2cf6cef8",
   "metadata": {
    "_kg_hide-input": true,
    "execution": {
     "iopub.execute_input": "2022-12-27T02:29:03.577525Z",
     "iopub.status.busy": "2022-12-27T02:29:03.576839Z",
     "iopub.status.idle": "2022-12-27T02:29:03.584447Z",
     "shell.execute_reply": "2022-12-27T02:29:03.582625Z"
    },
    "papermill": {
     "duration": 0.036776,
     "end_time": "2022-12-27T02:29:03.586990",
     "exception": false,
     "start_time": "2022-12-27T02:29:03.550214",
     "status": "completed"
    },
    "tags": []
   },
   "outputs": [
    {
     "name": "stdout",
     "output_type": "stream",
     "text": [
      "Before -> 1148\n",
      "After removing duplicates -> 120\n"
     ]
    }
   ],
   "source": [
    "print(\"Before ->\", len(industry_fields_list))\n",
    "industry_fields_list = list(set(industry_fields_list))\n",
    "print(\"After removing duplicates ->\", len(industry_fields_list))"
   ]
  },
  {
   "cell_type": "code",
   "execution_count": 33,
   "id": "72bee708",
   "metadata": {
    "_kg_hide-input": true,
    "execution": {
     "iopub.execute_input": "2022-12-27T02:29:03.637938Z",
     "iopub.status.busy": "2022-12-27T02:29:03.636461Z",
     "iopub.status.idle": "2022-12-27T02:29:03.643690Z",
     "shell.execute_reply": "2022-12-27T02:29:03.642797Z"
    },
    "papermill": {
     "duration": 0.03565,
     "end_time": "2022-12-27T02:29:03.646162",
     "exception": false,
     "start_time": "2022-12-27T02:29:03.610512",
     "status": "completed"
    },
    "tags": []
   },
   "outputs": [],
   "source": [
    "def industry_wage(industries, minimum_appearences=3):\n",
    "    industry_data = pd.DataFrame([])\n",
    "    \n",
    "    for industry in industries:\n",
    "        industry_rows = jobs_data[jobs_data[\"Industry\"].fillna(\"Other\")\\\n",
    "                                  .str.contains(industry)]\n",
    "        industry_rows['industry'] = industry\n",
    "        \n",
    "        if industry_rows.shape[0] < minimum_appearences:\n",
    "            continue\n",
    "\n",
    "        industry_data = pd.concat([industry_data, industry_rows])\n",
    "    \n",
    "    return industry_data"
   ]
  },
  {
   "cell_type": "code",
   "execution_count": 34,
   "id": "d21a9432",
   "metadata": {
    "execution": {
     "iopub.execute_input": "2022-12-27T02:29:03.697763Z",
     "iopub.status.busy": "2022-12-27T02:29:03.696227Z",
     "iopub.status.idle": "2022-12-27T02:29:03.933615Z",
     "shell.execute_reply": "2022-12-27T02:29:03.932120Z"
    },
    "papermill": {
     "duration": 0.266332,
     "end_time": "2022-12-27T02:29:03.936647",
     "exception": false,
     "start_time": "2022-12-27T02:29:03.670315",
     "status": "completed"
    },
    "tags": []
   },
   "outputs": [],
   "source": [
    "industry_fields = industry_wage(industry_fields_list, 5)\n",
    "industry_fields = industry_fields.join(exp_data[[\"min_exp\", \"max_exp\"]])"
   ]
  },
  {
   "cell_type": "code",
   "execution_count": 35,
   "id": "4b61ff80",
   "metadata": {
    "execution": {
     "iopub.execute_input": "2022-12-27T02:29:03.987093Z",
     "iopub.status.busy": "2022-12-27T02:29:03.986371Z",
     "iopub.status.idle": "2022-12-27T02:29:04.008442Z",
     "shell.execute_reply": "2022-12-27T02:29:04.006827Z"
    },
    "papermill": {
     "duration": 0.050481,
     "end_time": "2022-12-27T02:29:04.011347",
     "exception": false,
     "start_time": "2022-12-27T02:29:03.960866",
     "status": "completed"
    },
    "tags": []
   },
   "outputs": [
    {
     "data": {
      "text/html": [
       "<div>\n",
       "<style scoped>\n",
       "    .dataframe tbody tr th:only-of-type {\n",
       "        vertical-align: middle;\n",
       "    }\n",
       "\n",
       "    .dataframe tbody tr th {\n",
       "        vertical-align: top;\n",
       "    }\n",
       "\n",
       "    .dataframe thead th {\n",
       "        text-align: right;\n",
       "    }\n",
       "</style>\n",
       "<table border=\"1\" class=\"dataframe\">\n",
       "  <thead>\n",
       "    <tr style=\"text-align: right;\">\n",
       "      <th></th>\n",
       "      <th>industry</th>\n",
       "      <th>Longitude</th>\n",
       "      <th>Latitude</th>\n",
       "      <th>sal</th>\n",
       "      <th>min_exp</th>\n",
       "      <th>max_exp</th>\n",
       "    </tr>\n",
       "  </thead>\n",
       "  <tbody>\n",
       "    <tr>\n",
       "      <th>39</th>\n",
       "      <td>Pharma</td>\n",
       "      <td>82.107259</td>\n",
       "      <td>18.197349</td>\n",
       "      <td>5319.875</td>\n",
       "      <td>2.375</td>\n",
       "      <td>6.25</td>\n",
       "    </tr>\n",
       "    <tr>\n",
       "      <th>12</th>\n",
       "      <td>Clinical Research</td>\n",
       "      <td>82.107259</td>\n",
       "      <td>18.197349</td>\n",
       "      <td>5319.875</td>\n",
       "      <td>2.375</td>\n",
       "      <td>6.25</td>\n",
       "    </tr>\n",
       "    <tr>\n",
       "      <th>8</th>\n",
       "      <td>Biotech</td>\n",
       "      <td>82.107259</td>\n",
       "      <td>18.197349</td>\n",
       "      <td>5319.875</td>\n",
       "      <td>2.375</td>\n",
       "      <td>6.25</td>\n",
       "    </tr>\n",
       "  </tbody>\n",
       "</table>\n",
       "</div>"
      ],
      "text/plain": [
       "             industry  Longitude   Latitude       sal  min_exp  max_exp\n",
       "39             Pharma  82.107259  18.197349  5319.875    2.375     6.25\n",
       "12  Clinical Research  82.107259  18.197349  5319.875    2.375     6.25\n",
       "8             Biotech  82.107259  18.197349  5319.875    2.375     6.25"
      ]
     },
     "execution_count": 35,
     "metadata": {},
     "output_type": "execute_result"
    }
   ],
   "source": [
    "group_by_industry = industry_fields.groupby(\"industry\").mean()\\\n",
    "                                   .reset_index().sort_values(\"sal\", ascending=False)\n",
    "group_by_industry.head(3)"
   ]
  },
  {
   "cell_type": "code",
   "execution_count": 36,
   "id": "c14670a2",
   "metadata": {
    "_kg_hide-input": true,
    "execution": {
     "iopub.execute_input": "2022-12-27T02:29:04.061549Z",
     "iopub.status.busy": "2022-12-27T02:29:04.061051Z",
     "iopub.status.idle": "2022-12-27T02:29:04.073204Z",
     "shell.execute_reply": "2022-12-27T02:29:04.071776Z"
    },
    "papermill": {
     "duration": 0.040882,
     "end_time": "2022-12-27T02:29:04.076285",
     "exception": false,
     "start_time": "2022-12-27T02:29:04.035403",
     "status": "completed"
    },
    "tags": []
   },
   "outputs": [],
   "source": [
    "most_least_industry = pd.concat([group_by_industry.head(6), group_by_industry.tail(6)])\n",
    "palette = sns.color_palette(\"light:#0095ed\", 6)[::-1] + sns.color_palette(\"light:#d2c29d\", 6)"
   ]
  },
  {
   "cell_type": "code",
   "execution_count": 37,
   "id": "710f6bc0",
   "metadata": {
    "_kg_hide-input": true,
    "execution": {
     "iopub.execute_input": "2022-12-27T02:29:04.127750Z",
     "iopub.status.busy": "2022-12-27T02:29:04.127296Z",
     "iopub.status.idle": "2022-12-27T02:29:04.489043Z",
     "shell.execute_reply": "2022-12-27T02:29:04.487437Z"
    },
    "papermill": {
     "duration": 0.391179,
     "end_time": "2022-12-27T02:29:04.492277",
     "exception": false,
     "start_time": "2022-12-27T02:29:04.101098",
     "status": "completed"
    },
    "tags": []
   },
   "outputs": [
    {
     "data": {
      "image/png": "[encoded data removed]",
      "text/plain": [
       "<Figure size 1440x864 with 1 Axes>"
      ]
     },
     "metadata": {
      "needs_background": "light"
     },
     "output_type": "display_data"
    }
   ],
   "source": [
    "ax = sns.barplot(data = most_least_industry, x = \"sal\", y = \"industry\", palette=palette, dodge=False)\n",
    "ax.figure.set_size_inches(20, 12)\n",
    "\n",
    "ax.set_title(\"Industries with the highest / lowest mean Wage\", fontsize=24, font=font)\n",
    "ax.set_xlabel(\"\")\n",
    "ax.set_ylabel(\"\")\n",
    "plt.xticks(fontsize=20, font=font)\n",
    "plt.yticks(fontsize=20, font=font)\n",
    "\n",
    "ax.spines['top'].set_visible(False)\n",
    "ax.spines['right'].set_visible(False)\n",
    "ax.spines['left'].set(linewidth = 2)\n",
    "ax.spines['bottom'].set(linewidth = 2)\n",
    "\n",
    "i = 0\n",
    "for index, row in most_least_industry.iterrows():\n",
    "    text = \"$ %.2f\" % row['sal']\n",
    "    x = row['sal'] - 680\n",
    "    plt.text(s=text, y = i + 0.15, x=x, font=font, fontsize=24)\n",
    "    i+=1\n",
    "\n",
    "plt.show()"
   ]
  },
  {
   "cell_type": "markdown",
   "id": "be5002fb",
   "metadata": {
    "papermill": {
     "duration": 0.025211,
     "end_time": "2022-12-27T02:29:04.544723",
     "exception": false,
     "start_time": "2022-12-27T02:29:04.519512",
     "status": "completed"
    },
    "tags": []
   },
   "source": [
    "<div style=\"background-color:#b4e1eb; padding:20px; border-radius:35px 10px; line-height: 45px\">\n",
    "    <div style=\"font-family: Eras ITC; font-size:16px\">\n",
    "        <p> - The medical field receives the highest mean wage, mainly in research area. In the other hand, fields related to tourism have less mean wage.</p>\n",
    "        <p> - There are duplicates mean minimum experience for industry field, so I ordered by the min_exp and found the unique values, then select the first three and the last three values. Thereafter I find the rows that contained each of minimum experience unique values and grouped into a graph.</p>\n",
    "    </div>\n",
    "</div>"
   ]
  },
  {
   "cell_type": "code",
   "execution_count": 38,
   "id": "2577aa01",
   "metadata": {
    "_kg_hide-input": true,
    "execution": {
     "iopub.execute_input": "2022-12-27T02:29:04.599768Z",
     "iopub.status.busy": "2022-12-27T02:29:04.599329Z",
     "iopub.status.idle": "2022-12-27T02:29:04.606523Z",
     "shell.execute_reply": "2022-12-27T02:29:04.605603Z"
    },
    "papermill": {
     "duration": 0.037526,
     "end_time": "2022-12-27T02:29:04.608653",
     "exception": false,
     "start_time": "2022-12-27T02:29:04.571127",
     "status": "completed"
    },
    "tags": []
   },
   "outputs": [],
   "source": [
    "temp = group_by_industry.sort_values(\"min_exp\", ascending=False)\n",
    "temp['min_exp'] = temp.min_exp.round(2)"
   ]
  },
  {
   "cell_type": "code",
   "execution_count": 39,
   "id": "6223841e",
   "metadata": {
    "execution": {
     "iopub.execute_input": "2022-12-27T02:29:04.662192Z",
     "iopub.status.busy": "2022-12-27T02:29:04.661734Z",
     "iopub.status.idle": "2022-12-27T02:29:04.672434Z",
     "shell.execute_reply": "2022-12-27T02:29:04.671256Z"
    },
    "papermill": {
     "duration": 0.04049,
     "end_time": "2022-12-27T02:29:04.674888",
     "exception": false,
     "start_time": "2022-12-27T02:29:04.634398",
     "status": "completed"
    },
    "tags": []
   },
   "outputs": [
    {
     "data": {
      "text/plain": [
       "[7.38, 7.25, 7.17, 2.08, 2.07, 1.83]"
      ]
     },
     "execution_count": 39,
     "metadata": {},
     "output_type": "execute_result"
    }
   ],
   "source": [
    "most_least_exp_ind = list(temp['min_exp'].unique()[:3]) + list(temp['min_exp'].unique()[-3:])\n",
    "most_least_exp_ind"
   ]
  },
  {
   "cell_type": "code",
   "execution_count": 40,
   "id": "06403977",
   "metadata": {
    "_kg_hide-input": true,
    "execution": {
     "iopub.execute_input": "2022-12-27T02:29:04.728922Z",
     "iopub.status.busy": "2022-12-27T02:29:04.728450Z",
     "iopub.status.idle": "2022-12-27T02:29:05.053111Z",
     "shell.execute_reply": "2022-12-27T02:29:05.052105Z"
    },
    "papermill": {
     "duration": 0.355052,
     "end_time": "2022-12-27T02:29:05.055799",
     "exception": false,
     "start_time": "2022-12-27T02:29:04.700747",
     "status": "completed"
    },
    "tags": []
   },
   "outputs": [
    {
     "data": {
      "image/png": "[encoded data removed]",
      "text/plain": [
       "<Figure size 1440x720 with 1 Axes>"
      ]
     },
     "metadata": {
      "needs_background": "light"
     },
     "output_type": "display_data"
    }
   ],
   "source": [
    "ax = sns.barplot(np.arange(len(most_least_exp_ind)), most_least_exp_ind, \n",
    "                 dodge=False, alpha=0.35, palette = [\"#6fffdf\"] * 3 + [\"#ffe7a1\"] * 3)\n",
    "\n",
    "ax.figure.set_size_inches(20, 10)\n",
    "ax.set_title(\"Industries with most / lowest mean experience required\", font=font, fontsize=26)\n",
    "ax.set_ylabel(\"Minimum Experience\", font=font, fontsize=20)\n",
    "\n",
    "for i, exp in enumerate(most_least_exp_ind):\n",
    "    industry_for_exp = temp.query(\"min_exp == %f\" % exp)['industry'].tolist()\n",
    "    \n",
    "    # Industry Names\n",
    "    y = exp + 0.25\n",
    "    for industry in industry_for_exp:\n",
    "        plt.text(s=industry, x=i, y=y, \n",
    "                 font=font, fontsize=20, ha=\"center\")\n",
    "        y -= 0.75\n",
    "    \n",
    "    # Experience Text\n",
    "    color = \"#796b42\" if i > 2 else \"#489389\"\n",
    "    plt.text(s=exp, x=i, y = 0.3, ha=\"center\", \n",
    "             font=font, fontsize=24, color=color)\n",
    "    \n",
    "        \n",
    "            \n",
    "plt.ylim(0, 9)\n",
    "plt.xticks([])\n",
    "plt.yticks(font=font, fontsize=14)\n",
    "\n",
    "ax.spines['top'].set_visible(False)\n",
    "ax.spines['right'].set_visible(False)\n",
    "ax.spines['left'].set(linewidth = 2)\n",
    "ax.spines['bottom'].set(linewidth = 2)\n",
    "\n",
    "plt.show()"
   ]
  },
  {
   "cell_type": "markdown",
   "id": "87b7c8a8",
   "metadata": {
    "papermill": {
     "duration": 0.02693,
     "end_time": "2022-12-27T02:29:05.110839",
     "exception": false,
     "start_time": "2022-12-27T02:29:05.083909",
     "status": "completed"
    },
    "tags": []
   },
   "source": [
    "<div style=\"background-color:#b4e1eb; padding:20px; border-radius:35px 10px; line-height: 45px\">\n",
    "    <div style=\"font-family: Eras ITC; font-size:16px\">\n",
    "        <p> - Unexpectedly the industry fields that require the most minimum mean experience aren't from the medical area. <b>The engineering field, including mechanical and civil</b>, is the area that requires the most experience.</p>\n",
    "        <p> - Financial area and client support are the industry fields that requires the least experience.</p>\n",
    "    </div>\n",
    "</div>"
   ]
  },
  {
   "cell_type": "markdown",
   "id": "aa2510fd",
   "metadata": {
    "papermill": {
     "duration": 0.028081,
     "end_time": "2022-12-27T02:29:05.166167",
     "exception": false,
     "start_time": "2022-12-27T02:29:05.138086",
     "status": "completed"
    },
    "tags": []
   },
   "source": [
    "<h2 style=\"font-family: Eras Demi ITC\"> Vectorizing the industry data</h2>\n",
    "<hr style=\"height:6px;background-color:#6c9596\">\n",
    "<div style='font-family: Eras ITC;font-size:16px; line-height: 45px'> Turning the industry of each row into a vector containing 0 or 1 to use in the regression model.</div>"
   ]
  },
  {
   "cell_type": "code",
   "execution_count": 41,
   "id": "6119c9f1",
   "metadata": {
    "execution": {
     "iopub.execute_input": "2022-12-27T02:29:05.226091Z",
     "iopub.status.busy": "2022-12-27T02:29:05.225345Z",
     "iopub.status.idle": "2022-12-27T02:29:05.256237Z",
     "shell.execute_reply": "2022-12-27T02:29:05.254919Z"
    },
    "papermill": {
     "duration": 0.064419,
     "end_time": "2022-12-27T02:29:05.259307",
     "exception": false,
     "start_time": "2022-12-27T02:29:05.194888",
     "status": "completed"
    },
    "tags": []
   },
   "outputs": [],
   "source": [
    "numerical_industry_vector = list()\n",
    "\n",
    "for index in industry_for_row:\n",
    "    vector = np.zeros(len(industry_fields_list))\n",
    "    \n",
    "    for industry in index:\n",
    "        industry_index = industry_fields_list.index(industry.lstrip())\n",
    "        vector[industry_index] += 1\n",
    "    \n",
    "    numerical_industry_vector.append(vector)\n",
    "    \n",
    "numerical_industry_vector = pd.DataFrame(numerical_industry_vector, columns = industry_fields_list)"
   ]
  },
  {
   "cell_type": "code",
   "execution_count": 42,
   "id": "1e9a5e8d",
   "metadata": {
    "execution": {
     "iopub.execute_input": "2022-12-27T02:29:05.318235Z",
     "iopub.status.busy": "2022-12-27T02:29:05.317794Z",
     "iopub.status.idle": "2022-12-27T02:29:05.350107Z",
     "shell.execute_reply": "2022-12-27T02:29:05.348994Z"
    },
    "papermill": {
     "duration": 0.064623,
     "end_time": "2022-12-27T02:29:05.352991",
     "exception": false,
     "start_time": "2022-12-27T02:29:05.288368",
     "status": "completed"
    },
    "tags": []
   },
   "outputs": [
    {
     "data": {
      "text/html": [
       "<div>\n",
       "<style scoped>\n",
       "    .dataframe tbody tr th:only-of-type {\n",
       "        vertical-align: middle;\n",
       "    }\n",
       "\n",
       "    .dataframe tbody tr th {\n",
       "        vertical-align: top;\n",
       "    }\n",
       "\n",
       "    .dataframe thead th {\n",
       "        text-align: right;\n",
       "    }\n",
       "</style>\n",
       "<table border=\"1\" class=\"dataframe\">\n",
       "  <thead>\n",
       "    <tr style=\"text-align: right;\">\n",
       "      <th></th>\n",
       "      <th>Accounting / Finance</th>\n",
       "      <th>Accessories</th>\n",
       "      <th>Foods</th>\n",
       "      <th>Property</th>\n",
       "      <th>Courier</th>\n",
       "      <th>PR</th>\n",
       "      <th>Garments</th>\n",
       "      <th>Restaurants</th>\n",
       "      <th>Interior Design</th>\n",
       "      <th>Switchgears</th>\n",
       "      <th>...</th>\n",
       "      <th>Transportation</th>\n",
       "      <th>Software Services</th>\n",
       "      <th>Accounting</th>\n",
       "      <th>Engineering</th>\n",
       "      <th>IT-Software / Software Services</th>\n",
       "      <th>Sports</th>\n",
       "      <th>Broking</th>\n",
       "      <th>Insurance</th>\n",
       "      <th>Social Services</th>\n",
       "      <th>Finance</th>\n",
       "    </tr>\n",
       "  </thead>\n",
       "  <tbody>\n",
       "    <tr>\n",
       "      <th>0</th>\n",
       "      <td>0.0</td>\n",
       "      <td>0.0</td>\n",
       "      <td>0.0</td>\n",
       "      <td>0.0</td>\n",
       "      <td>0.0</td>\n",
       "      <td>1.0</td>\n",
       "      <td>0.0</td>\n",
       "      <td>0.0</td>\n",
       "      <td>0.0</td>\n",
       "      <td>0.0</td>\n",
       "      <td>...</td>\n",
       "      <td>0.0</td>\n",
       "      <td>0.0</td>\n",
       "      <td>0.0</td>\n",
       "      <td>0.0</td>\n",
       "      <td>0.0</td>\n",
       "      <td>0.0</td>\n",
       "      <td>0.0</td>\n",
       "      <td>0.0</td>\n",
       "      <td>0.0</td>\n",
       "      <td>0.0</td>\n",
       "    </tr>\n",
       "    <tr>\n",
       "      <th>1</th>\n",
       "      <td>0.0</td>\n",
       "      <td>0.0</td>\n",
       "      <td>0.0</td>\n",
       "      <td>0.0</td>\n",
       "      <td>0.0</td>\n",
       "      <td>0.0</td>\n",
       "      <td>0.0</td>\n",
       "      <td>0.0</td>\n",
       "      <td>0.0</td>\n",
       "      <td>0.0</td>\n",
       "      <td>...</td>\n",
       "      <td>0.0</td>\n",
       "      <td>1.0</td>\n",
       "      <td>0.0</td>\n",
       "      <td>0.0</td>\n",
       "      <td>0.0</td>\n",
       "      <td>0.0</td>\n",
       "      <td>0.0</td>\n",
       "      <td>0.0</td>\n",
       "      <td>0.0</td>\n",
       "      <td>0.0</td>\n",
       "    </tr>\n",
       "    <tr>\n",
       "      <th>2</th>\n",
       "      <td>0.0</td>\n",
       "      <td>0.0</td>\n",
       "      <td>0.0</td>\n",
       "      <td>0.0</td>\n",
       "      <td>0.0</td>\n",
       "      <td>0.0</td>\n",
       "      <td>0.0</td>\n",
       "      <td>0.0</td>\n",
       "      <td>0.0</td>\n",
       "      <td>0.0</td>\n",
       "      <td>...</td>\n",
       "      <td>0.0</td>\n",
       "      <td>0.0</td>\n",
       "      <td>0.0</td>\n",
       "      <td>0.0</td>\n",
       "      <td>0.0</td>\n",
       "      <td>0.0</td>\n",
       "      <td>0.0</td>\n",
       "      <td>0.0</td>\n",
       "      <td>0.0</td>\n",
       "      <td>0.0</td>\n",
       "    </tr>\n",
       "    <tr>\n",
       "      <th>3</th>\n",
       "      <td>0.0</td>\n",
       "      <td>0.0</td>\n",
       "      <td>0.0</td>\n",
       "      <td>0.0</td>\n",
       "      <td>0.0</td>\n",
       "      <td>0.0</td>\n",
       "      <td>0.0</td>\n",
       "      <td>0.0</td>\n",
       "      <td>0.0</td>\n",
       "      <td>0.0</td>\n",
       "      <td>...</td>\n",
       "      <td>0.0</td>\n",
       "      <td>1.0</td>\n",
       "      <td>0.0</td>\n",
       "      <td>0.0</td>\n",
       "      <td>0.0</td>\n",
       "      <td>0.0</td>\n",
       "      <td>0.0</td>\n",
       "      <td>0.0</td>\n",
       "      <td>0.0</td>\n",
       "      <td>0.0</td>\n",
       "    </tr>\n",
       "    <tr>\n",
       "      <th>4</th>\n",
       "      <td>0.0</td>\n",
       "      <td>0.0</td>\n",
       "      <td>0.0</td>\n",
       "      <td>0.0</td>\n",
       "      <td>0.0</td>\n",
       "      <td>0.0</td>\n",
       "      <td>0.0</td>\n",
       "      <td>0.0</td>\n",
       "      <td>0.0</td>\n",
       "      <td>0.0</td>\n",
       "      <td>...</td>\n",
       "      <td>0.0</td>\n",
       "      <td>1.0</td>\n",
       "      <td>0.0</td>\n",
       "      <td>0.0</td>\n",
       "      <td>0.0</td>\n",
       "      <td>0.0</td>\n",
       "      <td>0.0</td>\n",
       "      <td>0.0</td>\n",
       "      <td>0.0</td>\n",
       "      <td>0.0</td>\n",
       "    </tr>\n",
       "  </tbody>\n",
       "</table>\n",
       "<p>5 rows × 120 columns</p>\n",
       "</div>"
      ],
      "text/plain": [
       "   Accounting / Finance  Accessories  Foods  Property  Courier   PR  Garments  \\\n",
       "0                   0.0          0.0    0.0       0.0      0.0  1.0       0.0   \n",
       "1                   0.0          0.0    0.0       0.0      0.0  0.0       0.0   \n",
       "2                   0.0          0.0    0.0       0.0      0.0  0.0       0.0   \n",
       "3                   0.0          0.0    0.0       0.0      0.0  0.0       0.0   \n",
       "4                   0.0          0.0    0.0       0.0      0.0  0.0       0.0   \n",
       "\n",
       "   Restaurants   Interior Design  Switchgears  ...  Transportation  \\\n",
       "0           0.0              0.0          0.0  ...             0.0   \n",
       "1           0.0              0.0          0.0  ...             0.0   \n",
       "2           0.0              0.0          0.0  ...             0.0   \n",
       "3           0.0              0.0          0.0  ...             0.0   \n",
       "4           0.0              0.0          0.0  ...             0.0   \n",
       "\n",
       "   Software Services  Accounting  Engineering  \\\n",
       "0                0.0         0.0          0.0   \n",
       "1                1.0         0.0          0.0   \n",
       "2                0.0         0.0          0.0   \n",
       "3                1.0         0.0          0.0   \n",
       "4                1.0         0.0          0.0   \n",
       "\n",
       "   IT-Software / Software Services  Sports  Broking  Insurance  \\\n",
       "0                              0.0     0.0      0.0        0.0   \n",
       "1                              0.0     0.0      0.0        0.0   \n",
       "2                              0.0     0.0      0.0        0.0   \n",
       "3                              0.0     0.0      0.0        0.0   \n",
       "4                              0.0     0.0      0.0        0.0   \n",
       "\n",
       "   Social Services  Finance  \n",
       "0              0.0      0.0  \n",
       "1              0.0      0.0  \n",
       "2              0.0      0.0  \n",
       "3              0.0      0.0  \n",
       "4              0.0      0.0  \n",
       "\n",
       "[5 rows x 120 columns]"
      ]
     },
     "execution_count": 42,
     "metadata": {},
     "output_type": "execute_result"
    }
   ],
   "source": [
    "numerical_industry_vector.head()"
   ]
  },
  {
   "cell_type": "markdown",
   "id": "e72e10d6",
   "metadata": {
    "papermill": {
     "duration": 0.027404,
     "end_time": "2022-12-27T02:29:05.407983",
     "exception": false,
     "start_time": "2022-12-27T02:29:05.380579",
     "status": "completed"
    },
    "tags": []
   },
   "source": [
    "<div id=\"7\" style='font-size:48px; text-align:center; font-family: Eras Demi ITC;\n",
    "                background-color:#b4e1eb; border: 8px solid #6c9596;\n",
    "                border-radius:25px'> Regression Model </div>"
   ]
  },
  {
   "cell_type": "markdown",
   "id": "b929cf88",
   "metadata": {
    "papermill": {
     "duration": 0.029032,
     "end_time": "2022-12-27T02:29:05.465852",
     "exception": false,
     "start_time": "2022-12-27T02:29:05.436820",
     "status": "completed"
    },
    "tags": []
   },
   "source": [
    "<h2 style=\"font-family: Eras Demi ITC\"> Preparing the Data and Finding the best Hyper Params</h2>\n",
    "<hr style=\"height:6px;background-color:#6c9596\">\n",
    "<div style='font-family: Eras ITC;font-size:16px; line-height: 45px'> Dividing the data for train and test and finding the best hyper params for the Random Forest Regressor in order to build a pipeline.</div>"
   ]
  },
  {
   "cell_type": "code",
   "execution_count": 43,
   "id": "c69110f1",
   "metadata": {
    "_kg_hide-output": true,
    "execution": {
     "iopub.execute_input": "2022-12-27T02:29:05.524772Z",
     "iopub.status.busy": "2022-12-27T02:29:05.524272Z",
     "iopub.status.idle": "2022-12-27T02:29:05.536955Z",
     "shell.execute_reply": "2022-12-27T02:29:05.535753Z"
    },
    "papermill": {
     "duration": 0.045568,
     "end_time": "2022-12-27T02:29:05.539527",
     "exception": false,
     "start_time": "2022-12-27T02:29:05.493959",
     "status": "completed"
    },
    "tags": []
   },
   "outputs": [
    {
     "data": {
      "text/html": [
       "<div>\n",
       "<style scoped>\n",
       "    .dataframe tbody tr th:only-of-type {\n",
       "        vertical-align: middle;\n",
       "    }\n",
       "\n",
       "    .dataframe tbody tr th {\n",
       "        vertical-align: top;\n",
       "    }\n",
       "\n",
       "    .dataframe thead th {\n",
       "        text-align: right;\n",
       "    }\n",
       "</style>\n",
       "<table border=\"1\" class=\"dataframe\">\n",
       "  <thead>\n",
       "    <tr style=\"text-align: right;\">\n",
       "      <th></th>\n",
       "      <th>min_exp</th>\n",
       "      <th>max_exp</th>\n",
       "    </tr>\n",
       "  </thead>\n",
       "  <tbody>\n",
       "    <tr>\n",
       "      <th>0</th>\n",
       "      <td>5</td>\n",
       "      <td>10</td>\n",
       "    </tr>\n",
       "  </tbody>\n",
       "</table>\n",
       "</div>"
      ],
      "text/plain": [
       "   min_exp  max_exp\n",
       "0        5       10"
      ]
     },
     "execution_count": 43,
     "metadata": {},
     "output_type": "execute_result"
    }
   ],
   "source": [
    "numerical_exp_vector = exp_data[['min_exp', 'max_exp']]\n",
    "numerical_exp_vector.head(1)"
   ]
  },
  {
   "cell_type": "code",
   "execution_count": 44,
   "id": "2231210c",
   "metadata": {
    "execution": {
     "iopub.execute_input": "2022-12-27T02:29:05.598337Z",
     "iopub.status.busy": "2022-12-27T02:29:05.597887Z",
     "iopub.status.idle": "2022-12-27T02:29:05.609166Z",
     "shell.execute_reply": "2022-12-27T02:29:05.607956Z"
    },
    "papermill": {
     "duration": 0.044626,
     "end_time": "2022-12-27T02:29:05.611935",
     "exception": false,
     "start_time": "2022-12-27T02:29:05.567309",
     "status": "completed"
    },
    "tags": []
   },
   "outputs": [],
   "source": [
    "X = pd.concat([numerical_skill_vector,\n",
    "               numerical_industry_vector,\n",
    "               numerical_exp_vector], axis=1)\n",
    "\n",
    "y = jobs_data.sal"
   ]
  },
  {
   "cell_type": "code",
   "execution_count": 45,
   "id": "636473d0",
   "metadata": {
    "execution": {
     "iopub.execute_input": "2022-12-27T02:29:05.672130Z",
     "iopub.status.busy": "2022-12-27T02:29:05.671692Z",
     "iopub.status.idle": "2022-12-27T02:29:05.698530Z",
     "shell.execute_reply": "2022-12-27T02:29:05.697223Z"
    },
    "papermill": {
     "duration": 0.060569,
     "end_time": "2022-12-27T02:29:05.701690",
     "exception": false,
     "start_time": "2022-12-27T02:29:05.641121",
     "status": "completed"
    },
    "tags": []
   },
   "outputs": [],
   "source": [
    "SEED = 4040\n",
    "x_train, x_test, y_train, y_test = train_test_split(X, y, test_size=0.25, random_state=SEED)"
   ]
  },
  {
   "cell_type": "code",
   "execution_count": 46,
   "id": "ab876547",
   "metadata": {
    "execution": {
     "iopub.execute_input": "2022-12-27T02:29:05.761748Z",
     "iopub.status.busy": "2022-12-27T02:29:05.761281Z",
     "iopub.status.idle": "2022-12-27T02:29:05.768500Z",
     "shell.execute_reply": "2022-12-27T02:29:05.767096Z"
    },
    "papermill": {
     "duration": 0.041091,
     "end_time": "2022-12-27T02:29:05.771737",
     "exception": false,
     "start_time": "2022-12-27T02:29:05.730646",
     "status": "completed"
    },
    "tags": []
   },
   "outputs": [
    {
     "name": "stdout",
     "output_type": "stream",
     "text": [
      "(375, 1912)\n",
      "(125, 1912)\n",
      "(375,)\n",
      "(125,)\n"
     ]
    }
   ],
   "source": [
    "print(x_train.shape)\n",
    "print(x_test.shape)\n",
    "print(y_train.shape)\n",
    "print(y_test.shape)"
   ]
  },
  {
   "cell_type": "code",
   "execution_count": 47,
   "id": "88f58eff",
   "metadata": {
    "execution": {
     "iopub.execute_input": "2022-12-27T02:29:05.830666Z",
     "iopub.status.busy": "2022-12-27T02:29:05.829570Z",
     "iopub.status.idle": "2022-12-27T02:29:05.837649Z",
     "shell.execute_reply": "2022-12-27T02:29:05.836485Z"
    },
    "papermill": {
     "duration": 0.039928,
     "end_time": "2022-12-27T02:29:05.839846",
     "exception": false,
     "start_time": "2022-12-27T02:29:05.799918",
     "status": "completed"
    },
    "tags": []
   },
   "outputs": [],
   "source": [
    "rfr = RandomForestRegressor(random_state=SEED)\n",
    "\n",
    "params = {\n",
    "    \"max_depth\":[3, 5, 10, 20, 25],\n",
    "    \"min_samples_split\":[2, 10, 32, 64, 128, 256],\n",
    "    \"min_samples_leaf\":[1, 10, 32, 64, 128, 256],\n",
    "}\n",
    "\n",
    "cv = KFold(n_splits=5, shuffle=True, random_state=SEED)\n",
    "\n",
    "search = RandomizedSearchCV(rfr, params, n_iter=48, cv=cv, random_state=SEED)"
   ]
  },
  {
   "cell_type": "code",
   "execution_count": 48,
   "id": "15bee832",
   "metadata": {
    "_kg_hide-output": true,
    "execution": {
     "iopub.execute_input": "2022-12-27T02:29:05.898550Z",
     "iopub.status.busy": "2022-12-27T02:29:05.897571Z",
     "iopub.status.idle": "2022-12-27T02:30:21.910961Z",
     "shell.execute_reply": "2022-12-27T02:30:21.909660Z"
    },
    "papermill": {
     "duration": 76.072406,
     "end_time": "2022-12-27T02:30:21.941086",
     "exception": false,
     "start_time": "2022-12-27T02:29:05.868680",
     "status": "completed"
    },
    "tags": []
   },
   "outputs": [
    {
     "data": {
      "text/plain": [
       "RandomizedSearchCV(cv=KFold(n_splits=5, random_state=4040, shuffle=True),\n",
       "                   estimator=RandomForestRegressor(random_state=4040),\n",
       "                   n_iter=48,\n",
       "                   param_distributions={'max_depth': [3, 5, 10, 20, 25],\n",
       "                                        'min_samples_leaf': [1, 10, 32, 64, 128,\n",
       "                                                             256],\n",
       "                                        'min_samples_split': [2, 10, 32, 64,\n",
       "                                                              128, 256]},\n",
       "                   random_state=4040)"
      ]
     },
     "execution_count": 48,
     "metadata": {},
     "output_type": "execute_result"
    }
   ],
   "source": [
    "search.fit(x_train, y_train)"
   ]
  },
  {
   "cell_type": "code",
   "execution_count": 49,
   "id": "508af835",
   "metadata": {
    "execution": {
     "iopub.execute_input": "2022-12-27T02:30:21.999670Z",
     "iopub.status.busy": "2022-12-27T02:30:21.999223Z",
     "iopub.status.idle": "2022-12-27T02:30:22.005839Z",
     "shell.execute_reply": "2022-12-27T02:30:22.004132Z"
    },
    "papermill": {
     "duration": 0.040627,
     "end_time": "2022-12-27T02:30:22.009636",
     "exception": false,
     "start_time": "2022-12-27T02:30:21.969009",
     "status": "completed"
    },
    "tags": []
   },
   "outputs": [
    {
     "name": "stdout",
     "output_type": "stream",
     "text": [
      "Best Params: {'min_samples_split': 128, 'min_samples_leaf': 32, 'max_depth': 5}\n"
     ]
    }
   ],
   "source": [
    "print(\"Best Params:\", search.best_params_)"
   ]
  },
  {
   "cell_type": "code",
   "execution_count": 50,
   "id": "722ff5e5",
   "metadata": {
    "execution": {
     "iopub.execute_input": "2022-12-27T02:30:22.072490Z",
     "iopub.status.busy": "2022-12-27T02:30:22.072049Z",
     "iopub.status.idle": "2022-12-27T02:30:22.078313Z",
     "shell.execute_reply": "2022-12-27T02:30:22.076636Z"
    },
    "papermill": {
     "duration": 0.041205,
     "end_time": "2022-12-27T02:30:22.081227",
     "exception": false,
     "start_time": "2022-12-27T02:30:22.040022",
     "status": "completed"
    },
    "tags": []
   },
   "outputs": [],
   "source": [
    "best_rfr = search.best_estimator_"
   ]
  },
  {
   "cell_type": "markdown",
   "id": "1ba5af99",
   "metadata": {
    "papermill": {
     "duration": 0.02827,
     "end_time": "2022-12-27T02:30:22.138679",
     "exception": false,
     "start_time": "2022-12-27T02:30:22.110409",
     "status": "completed"
    },
    "tags": []
   },
   "source": [
    "<h2 style=\"font-family: Eras Demi ITC\"> Visualizing the Prediction</h2>\n",
    "<hr style=\"height:6px;background-color:#6c9596\">\n",
    "<div style='font-family: Eras ITC;font-size:16px; line-height: 45px'> Validating the best model and testing the generalization with the test values prediction. Visualizing the prediction using the minimum experience feature.</div>"
   ]
  },
  {
   "cell_type": "code",
   "execution_count": 51,
   "id": "aed5271f",
   "metadata": {
    "execution": {
     "iopub.execute_input": "2022-12-27T02:30:22.197608Z",
     "iopub.status.busy": "2022-12-27T02:30:22.197159Z",
     "iopub.status.idle": "2022-12-27T02:30:22.233871Z",
     "shell.execute_reply": "2022-12-27T02:30:22.232407Z"
    },
    "papermill": {
     "duration": 0.069726,
     "end_time": "2022-12-27T02:30:22.236805",
     "exception": false,
     "start_time": "2022-12-27T02:30:22.167079",
     "status": "completed"
    },
    "tags": []
   },
   "outputs": [
    {
     "name": "stdout",
     "output_type": "stream",
     "text": [
      "Test Mean Squared Error: 2396379.76\n"
     ]
    }
   ],
   "source": [
    "y_pred = best_rfr.predict(x_test)\n",
    "print(\"Test Mean Squared Error: %.2f\" % mean_squared_error(y_test, y_pred))"
   ]
  },
  {
   "cell_type": "code",
   "execution_count": 52,
   "id": "1449c732",
   "metadata": {
    "_kg_hide-input": true,
    "execution": {
     "iopub.execute_input": "2022-12-27T02:30:22.295829Z",
     "iopub.status.busy": "2022-12-27T02:30:22.295379Z",
     "iopub.status.idle": "2022-12-27T02:30:23.023955Z",
     "shell.execute_reply": "2022-12-27T02:30:23.022732Z"
    },
    "papermill": {
     "duration": 0.761648,
     "end_time": "2022-12-27T02:30:23.026757",
     "exception": false,
     "start_time": "2022-12-27T02:30:22.265109",
     "status": "completed"
    },
    "tags": []
   },
   "outputs": [
    {
     "data": {
      "image/png": "[encoded data removed]",
      "text/plain": [
       "<Figure size 1296x720 with 1 Axes>"
      ]
     },
     "metadata": {
      "needs_background": "light"
     },
     "output_type": "display_data"
    }
   ],
   "source": [
    "ax = sns.scatterplot(x = x_test['min_exp'], y = y_test, s=250, color=\"#00bfff\")\n",
    "sns.lineplot(x = x_test['min_exp'], y = y_pred, color=\"#cd6600\", lw=6, err_style=\"bars\")\n",
    "\n",
    "ax.figure.set_size_inches(18, 10)\n",
    "\n",
    "ax.set_title(\"Predicted Wage x Real Wage per Minimum Experience\", font=font, fontsize=26)\n",
    "ax.set_xlabel(\"Minimum Experience\", font=font, fontsize=20)\n",
    "ax.set_ylabel(\"Wage\", font=font, fontsize=20)\n",
    "\n",
    "plt.xticks(font=font, fontsize=14)\n",
    "plt.yticks(font=font, fontsize=14)\n",
    "\n",
    "ax.spines['top'].set_visible(False)\n",
    "ax.spines['right'].set_visible(False)\n",
    "ax.spines['left'].set(linewidth = 2)\n",
    "ax.spines['bottom'].set(linewidth = 2)\n",
    "\n",
    "plt.show()"
   ]
  },
  {
   "cell_type": "markdown",
   "id": "9d9611e2",
   "metadata": {
    "papermill": {
     "duration": 0.028837,
     "end_time": "2022-12-27T02:30:23.085135",
     "exception": false,
     "start_time": "2022-12-27T02:30:23.056298",
     "status": "completed"
    },
    "tags": []
   },
   "source": [
    "<div id=\"8\" style='font-size:48px; text-align:center; font-family: Eras Demi ITC;\n",
    "                background-color:#b4e1eb; border: 8px solid #6c9596; \n",
    "                border-radius:25px'> Conclusion </div>"
   ]
  },
  {
   "cell_type": "markdown",
   "id": "21c27b79",
   "metadata": {
    "papermill": {
     "duration": 0.02986,
     "end_time": "2022-12-27T02:30:23.144677",
     "exception": false,
     "start_time": "2022-12-27T02:30:23.114817",
     "status": "completed"
    },
    "tags": []
   },
   "source": [
    "<h2 style=\"font-family: Eras Demi ITC\">Regression Model</h2>\n",
    "<hr style=\"height:6px;background-color:#6c9596\">\n",
    "<div style='font-family: Eras ITC;font-size:16px; line-height: 45px'> As showed before, the lack of data for jobs with more than 10 years of required experience interferes directly in the regression model, giving the impression of constant wage after 10 years of experience.</div>"
   ]
  },
  {
   "cell_type": "markdown",
   "id": "04b93f87",
   "metadata": {
    "papermill": {
     "duration": 0.029508,
     "end_time": "2022-12-27T02:30:23.205197",
     "exception": false,
     "start_time": "2022-12-27T02:30:23.175689",
     "status": "completed"
    },
    "tags": []
   },
   "source": [
    "<h2 style=\"font-family: Eras Demi ITC\"> Analyzing Data</h2>\n",
    "<hr style=\"height:6px;background-color:#6c9596\">\n",
    "<div style='font-family: Eras ITC;font-size:16px; line-height: 45px'> \n",
    "    <p><b>-</b> Medical industry fields have the highest average wage, like pharma and clinical research at the same time that don't require the most experience. In the other hand, fields related to tourism have the lowest average wage.<p>\n",
    "    <p><b>-</b> Financial area and client support are the industry fields that requires the least experience, most of them are entry level job.<p>\n",
    "    <p><b>-</b> The most common experience required is 2 years. The lack of data for jobs with more than 10 years of required experience is understandable, because the most common \"maximum\" recommended required experience is 7 years, which companies consider enough for high position jobs.<p>\n",
    "    <p><b>-</b> The key skills MySQL and Php are among the jobs that have the highests average salaries.<p>\n",
    "</div>"
   ]
  },
  {
   "cell_type": "markdown",
   "id": "ba6a7bb3",
   "metadata": {
    "papermill": {
     "duration": 0.030931,
     "end_time": "2022-12-27T02:30:23.266526",
     "exception": false,
     "start_time": "2022-12-27T02:30:23.235595",
     "status": "completed"
    },
    "tags": []
   },
   "source": [
    "<h2 style=\"font-family: Eras Demi ITC\">Collaborate to improve together!</h2>\n",
    "<hr style=\"height:6px;background-color:#6c9596\">\n",
    "<div style='font-family: Eras ITC;font-size:16px; line-height: 45px'> Thank you for viewing the notebook! I hope you learned something. Leave a comment if there's a constructive criticism, let's improve together!</div>"
   ]
  }
 ],
 "metadata": {
  "kernelspec": {
   "display_name": "Python 3",
   "language": "python",
   "name": "python3"
  },
  "language_info": {
   "codemirror_mode": {
    "name": "ipython",
    "version": 3
   },
   "file_extension": ".py",
   "mimetype": "text/x-python",
   "name": "python",
   "nbconvert_exporter": "python",
   "pygments_lexer": "ipython3",
   "version": "3.7.12"
  },
  "papermill": {
   "default_parameters": {},
   "duration": 98.071567,
   "end_time": "2022-12-27T02:30:24.121315",
   "environment_variables": {},
   "exception": null,
   "input_path": "__notebook__.ipynb",
   "output_path": "__notebook__.ipynb",
   "parameters": {},
   "start_time": "2022-12-27T02:28:46.049748",
   "version": "2.3.4"
  }
 },
 "nbformat": 4,
 "nbformat_minor": 5
}
